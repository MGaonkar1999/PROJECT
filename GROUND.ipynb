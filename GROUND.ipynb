{
 "cells": [
  {
   "cell_type": "code",
   "execution_count": 1,
   "metadata": {},
   "outputs": [],
   "source": [
    "#Loading packages\n",
    "import pandas as pd\n",
    "import seaborn as sns\n",
    "import numpy as np\n",
    "import matplotlib.pyplot as plt\n",
    "%matplotlib inline"
   ]
  },
  {
   "cell_type": "markdown",
   "metadata": {},
   "source": [
    "# IMPORTING DATASET"
   ]
  },
  {
   "cell_type": "code",
   "execution_count": 2,
   "metadata": {},
   "outputs": [
    {
     "data": {
      "text/html": [
       "<div>\n",
       "<style scoped>\n",
       "    .dataframe tbody tr th:only-of-type {\n",
       "        vertical-align: middle;\n",
       "    }\n",
       "\n",
       "    .dataframe tbody tr th {\n",
       "        vertical-align: top;\n",
       "    }\n",
       "\n",
       "    .dataframe thead th {\n",
       "        text-align: right;\n",
       "    }\n",
       "</style>\n",
       "<table border=\"1\" class=\"dataframe\">\n",
       "  <thead>\n",
       "    <tr style=\"text-align: right;\">\n",
       "      <th></th>\n",
       "      <th>Station Code</th>\n",
       "      <th>Station Name</th>\n",
       "      <th>State</th>\n",
       "      <th>Min. Temperature ⁰C</th>\n",
       "      <th>Max Temperature ⁰C</th>\n",
       "      <th>Min Dissolved O2</th>\n",
       "      <th>Max Dissolved O2</th>\n",
       "      <th>Min pH</th>\n",
       "      <th>Max pH</th>\n",
       "      <th>Min Conductivity((µmhos/cm))</th>\n",
       "      <th>Max Conductivity (µmhos/cm)</th>\n",
       "      <th>Min B.O.D</th>\n",
       "      <th>Max B.O.D</th>\n",
       "      <th>Min Nitrate-N + Nitrite-N (mg/l)</th>\n",
       "      <th>Max Nitrate-N + Nitrite-N (mg/l)</th>\n",
       "      <th>Min Total Coli form (MPN/100ml)</th>\n",
       "      <th>Max Total Coli form (MPN/100ml)</th>\n",
       "      <th>Min Faecal Coli form (MPN/100ml)</th>\n",
       "      <th>Max Faecal</th>\n",
       "    </tr>\n",
       "  </thead>\n",
       "  <tbody>\n",
       "    <tr>\n",
       "      <th>0</th>\n",
       "      <td>26.0</td>\n",
       "      <td>WELL AT GRAM PANCHAYAT\\nOFFICE, KAANURU, VIJAY...</td>\n",
       "      <td>ANDHRA PRADESH</td>\n",
       "      <td>25.0</td>\n",
       "      <td>26.0</td>\n",
       "      <td>3.9</td>\n",
       "      <td>4.8</td>\n",
       "      <td>7.8</td>\n",
       "      <td>7.9</td>\n",
       "      <td>1814.0</td>\n",
       "      <td>1841.0</td>\n",
       "      <td>0.8</td>\n",
       "      <td>1.4</td>\n",
       "      <td>0.48</td>\n",
       "      <td>3.43</td>\n",
       "      <td>2.0</td>\n",
       "      <td>3.0</td>\n",
       "      <td>39.0</td>\n",
       "      <td>400.0</td>\n",
       "    </tr>\n",
       "    <tr>\n",
       "      <th>1</th>\n",
       "      <td>1513.0</td>\n",
       "      <td>BOREWELL KRISHNA MURTHY, D.NO. 48-16-43 AUTONA...</td>\n",
       "      <td>ANDHRA PRADESH</td>\n",
       "      <td>26.0</td>\n",
       "      <td>26.0</td>\n",
       "      <td>3.8</td>\n",
       "      <td>4.5</td>\n",
       "      <td>7.4</td>\n",
       "      <td>7.7</td>\n",
       "      <td>1796.0</td>\n",
       "      <td>1873.0</td>\n",
       "      <td>0.8</td>\n",
       "      <td>1.4</td>\n",
       "      <td>0.74</td>\n",
       "      <td>3.81</td>\n",
       "      <td>2.0</td>\n",
       "      <td>3.0</td>\n",
       "      <td>64.0</td>\n",
       "      <td>800.0</td>\n",
       "    </tr>\n",
       "    <tr>\n",
       "      <th>2</th>\n",
       "      <td>1514.0</td>\n",
       "      <td>BOREWELL VIJAY KUMAR\\nAUTONAGAR VIJAYAWADA</td>\n",
       "      <td>ANDHRA PRADESH</td>\n",
       "      <td>25.0</td>\n",
       "      <td>26.0</td>\n",
       "      <td>4.8</td>\n",
       "      <td>5.1</td>\n",
       "      <td>7.4</td>\n",
       "      <td>7.7</td>\n",
       "      <td>1561.0</td>\n",
       "      <td>1875.0</td>\n",
       "      <td>1.2</td>\n",
       "      <td>4.1</td>\n",
       "      <td>0.83</td>\n",
       "      <td>0.85</td>\n",
       "      <td>2.0</td>\n",
       "      <td>3.0</td>\n",
       "      <td>21.0</td>\n",
       "      <td>400.0</td>\n",
       "    </tr>\n",
       "    <tr>\n",
       "      <th>3</th>\n",
       "      <td>1516.0</td>\n",
       "      <td>BOREWELL OF NAVLOK\\nGARDENS, NELLORE</td>\n",
       "      <td>ANDHRA PRADESH</td>\n",
       "      <td>19.0</td>\n",
       "      <td>19.0</td>\n",
       "      <td>3.8</td>\n",
       "      <td>3.9</td>\n",
       "      <td>7.8</td>\n",
       "      <td>8.1</td>\n",
       "      <td>890.0</td>\n",
       "      <td>1566.0</td>\n",
       "      <td>1.2</td>\n",
       "      <td>1.2</td>\n",
       "      <td>1.5</td>\n",
       "      <td>1.66</td>\n",
       "      <td>2.0</td>\n",
       "      <td>3.0</td>\n",
       "      <td>21.0</td>\n",
       "      <td>400.0</td>\n",
       "    </tr>\n",
       "    <tr>\n",
       "      <th>4</th>\n",
       "      <td>1517.0</td>\n",
       "      <td>BOREWELL NEAR TUNGBHADRA\\nRIVER KURNOOL</td>\n",
       "      <td>ANDHRA PRADESH</td>\n",
       "      <td>22.0</td>\n",
       "      <td>22.0</td>\n",
       "      <td>4.5</td>\n",
       "      <td>4.5</td>\n",
       "      <td>7.5</td>\n",
       "      <td>7.5</td>\n",
       "      <td>5010.0</td>\n",
       "      <td>5010.0</td>\n",
       "      <td>0.8</td>\n",
       "      <td>0.8</td>\n",
       "      <td>4</td>\n",
       "      <td>4</td>\n",
       "      <td>2.0</td>\n",
       "      <td>2.0</td>\n",
       "      <td>2.0</td>\n",
       "      <td>2.0</td>\n",
       "    </tr>\n",
       "    <tr>\n",
       "      <th>...</th>\n",
       "      <td>...</td>\n",
       "      <td>...</td>\n",
       "      <td>...</td>\n",
       "      <td>...</td>\n",
       "      <td>...</td>\n",
       "      <td>...</td>\n",
       "      <td>...</td>\n",
       "      <td>...</td>\n",
       "      <td>...</td>\n",
       "      <td>...</td>\n",
       "      <td>...</td>\n",
       "      <td>...</td>\n",
       "      <td>...</td>\n",
       "      <td>...</td>\n",
       "      <td>...</td>\n",
       "      <td>...</td>\n",
       "      <td>...</td>\n",
       "      <td>...</td>\n",
       "      <td>...</td>\n",
       "    </tr>\n",
       "    <tr>\n",
       "      <th>1015</th>\n",
       "      <td>4730.0</td>\n",
       "      <td>GROUND WATER (DUGWELL) AT\\nHARISHPAL MORE</td>\n",
       "      <td>WEST BENGAL</td>\n",
       "      <td>26.0</td>\n",
       "      <td>26.0</td>\n",
       "      <td>NaN</td>\n",
       "      <td>NaN</td>\n",
       "      <td>7.6</td>\n",
       "      <td>7.6</td>\n",
       "      <td>882.0</td>\n",
       "      <td>882.0</td>\n",
       "      <td>0.8</td>\n",
       "      <td>0.8</td>\n",
       "      <td>1.77</td>\n",
       "      <td>1.77</td>\n",
       "      <td>NaN</td>\n",
       "      <td>NaN</td>\n",
       "      <td>NaN</td>\n",
       "      <td>NaN</td>\n",
       "    </tr>\n",
       "    <tr>\n",
       "      <th>1016</th>\n",
       "      <td>4731.0</td>\n",
       "      <td>GROUNDWATER AT UTTARBANGA KRISHI\\nVISHWAVIDYALAYA</td>\n",
       "      <td>WEST BENGAL</td>\n",
       "      <td>26.0</td>\n",
       "      <td>26.0</td>\n",
       "      <td>NaN</td>\n",
       "      <td>NaN</td>\n",
       "      <td>7.7</td>\n",
       "      <td>7.7</td>\n",
       "      <td>293.0</td>\n",
       "      <td>293.0</td>\n",
       "      <td>0.3</td>\n",
       "      <td>0.3</td>\n",
       "      <td>0.45</td>\n",
       "      <td>0.45</td>\n",
       "      <td>NaN</td>\n",
       "      <td>NaN</td>\n",
       "      <td>NaN</td>\n",
       "      <td>NaN</td>\n",
       "    </tr>\n",
       "    <tr>\n",
       "      <th>1017</th>\n",
       "      <td>4732.0</td>\n",
       "      <td>GROUNDWATER AT ANANDA\\nMOHAN COMMERCE COLLEGE</td>\n",
       "      <td>WEST BENGAL</td>\n",
       "      <td>28.0</td>\n",
       "      <td>28.0</td>\n",
       "      <td>NaN</td>\n",
       "      <td>NaN</td>\n",
       "      <td>7.9</td>\n",
       "      <td>7.9</td>\n",
       "      <td>611.0</td>\n",
       "      <td>611.0</td>\n",
       "      <td>0.6</td>\n",
       "      <td>0.6</td>\n",
       "      <td>0.88</td>\n",
       "      <td>0.88</td>\n",
       "      <td>NaN</td>\n",
       "      <td>NaN</td>\n",
       "      <td>NaN</td>\n",
       "      <td>NaN</td>\n",
       "    </tr>\n",
       "    <tr>\n",
       "      <th>1018</th>\n",
       "      <td>4733.0</td>\n",
       "      <td>GROUNDWATER AT SUKNA\\nFOREST RANGE</td>\n",
       "      <td>WEST BENGAL</td>\n",
       "      <td>26.0</td>\n",
       "      <td>26.0</td>\n",
       "      <td>NaN</td>\n",
       "      <td>NaN</td>\n",
       "      <td>7.4</td>\n",
       "      <td>7.4</td>\n",
       "      <td>365.0</td>\n",
       "      <td>365.0</td>\n",
       "      <td>0.5</td>\n",
       "      <td>0.5</td>\n",
       "      <td>1.71</td>\n",
       "      <td>1.71</td>\n",
       "      <td>NaN</td>\n",
       "      <td>NaN</td>\n",
       "      <td>NaN</td>\n",
       "      <td>NaN</td>\n",
       "    </tr>\n",
       "    <tr>\n",
       "      <th>1019</th>\n",
       "      <td>4737.0</td>\n",
       "      <td>GROUND WATER AT SHYAMPUR\\nBUDGE BUDGE</td>\n",
       "      <td>WEST BENGAL</td>\n",
       "      <td>28.0</td>\n",
       "      <td>28.0</td>\n",
       "      <td>NaN</td>\n",
       "      <td>NaN</td>\n",
       "      <td>7.7</td>\n",
       "      <td>7.7</td>\n",
       "      <td>7439.0</td>\n",
       "      <td>7439.0</td>\n",
       "      <td>0.5</td>\n",
       "      <td>0.5</td>\n",
       "      <td>0.93</td>\n",
       "      <td>0.93</td>\n",
       "      <td>NaN</td>\n",
       "      <td>NaN</td>\n",
       "      <td>NaN</td>\n",
       "      <td>NaN</td>\n",
       "    </tr>\n",
       "  </tbody>\n",
       "</table>\n",
       "<p>1020 rows × 19 columns</p>\n",
       "</div>"
      ],
      "text/plain": [
       "      Station Code                                      Station Name   \\\n",
       "0             26.0  WELL AT GRAM PANCHAYAT\\nOFFICE, KAANURU, VIJAY...   \n",
       "1           1513.0  BOREWELL KRISHNA MURTHY, D.NO. 48-16-43 AUTONA...   \n",
       "2           1514.0         BOREWELL VIJAY KUMAR\\nAUTONAGAR VIJAYAWADA   \n",
       "3           1516.0               BOREWELL OF NAVLOK\\nGARDENS, NELLORE   \n",
       "4           1517.0            BOREWELL NEAR TUNGBHADRA\\nRIVER KURNOOL   \n",
       "...            ...                                                ...   \n",
       "1015        4730.0          GROUND WATER (DUGWELL) AT\\nHARISHPAL MORE   \n",
       "1016        4731.0  GROUNDWATER AT UTTARBANGA KRISHI\\nVISHWAVIDYALAYA   \n",
       "1017        4732.0      GROUNDWATER AT ANANDA\\nMOHAN COMMERCE COLLEGE   \n",
       "1018        4733.0                 GROUNDWATER AT SUKNA\\nFOREST RANGE   \n",
       "1019        4737.0              GROUND WATER AT SHYAMPUR\\nBUDGE BUDGE   \n",
       "\n",
       "               State  Min. Temperature ⁰C  Max Temperature ⁰C  \\\n",
       "0     ANDHRA PRADESH                 25.0                26.0   \n",
       "1     ANDHRA PRADESH                 26.0                26.0   \n",
       "2     ANDHRA PRADESH                 25.0                26.0   \n",
       "3     ANDHRA PRADESH                 19.0                19.0   \n",
       "4     ANDHRA PRADESH                 22.0                22.0   \n",
       "...              ...                  ...                 ...   \n",
       "1015     WEST BENGAL                 26.0                26.0   \n",
       "1016     WEST BENGAL                 26.0                26.0   \n",
       "1017     WEST BENGAL                 28.0                28.0   \n",
       "1018     WEST BENGAL                 26.0                26.0   \n",
       "1019     WEST BENGAL                 28.0                28.0   \n",
       "\n",
       "     Min Dissolved O2 Max Dissolved O2  Min pH  Max pH  \\\n",
       "0                 3.9              4.8     7.8     7.9   \n",
       "1                 3.8              4.5     7.4     7.7   \n",
       "2                 4.8              5.1     7.4     7.7   \n",
       "3                 3.8              3.9     7.8     8.1   \n",
       "4                 4.5              4.5     7.5     7.5   \n",
       "...               ...              ...     ...     ...   \n",
       "1015              NaN              NaN     7.6     7.6   \n",
       "1016              NaN              NaN     7.7     7.7   \n",
       "1017              NaN              NaN     7.9     7.9   \n",
       "1018              NaN              NaN     7.4     7.4   \n",
       "1019              NaN              NaN     7.7     7.7   \n",
       "\n",
       "      Min Conductivity((µmhos/cm))  Max Conductivity (µmhos/cm) Min B.O.D  \\\n",
       "0                           1814.0                       1841.0       0.8   \n",
       "1                           1796.0                       1873.0       0.8   \n",
       "2                           1561.0                       1875.0       1.2   \n",
       "3                            890.0                       1566.0       1.2   \n",
       "4                           5010.0                       5010.0       0.8   \n",
       "...                            ...                          ...       ...   \n",
       "1015                         882.0                        882.0       0.8   \n",
       "1016                         293.0                        293.0       0.3   \n",
       "1017                         611.0                        611.0       0.6   \n",
       "1018                         365.0                        365.0       0.5   \n",
       "1019                        7439.0                       7439.0       0.5   \n",
       "\n",
       "     Max B.O.D Min Nitrate-N + Nitrite-N (mg/l)  \\\n",
       "0          1.4                             0.48   \n",
       "1          1.4                             0.74   \n",
       "2          4.1                             0.83   \n",
       "3          1.2                              1.5   \n",
       "4          0.8                                4   \n",
       "...        ...                              ...   \n",
       "1015       0.8                             1.77   \n",
       "1016       0.3                             0.45   \n",
       "1017       0.6                             0.88   \n",
       "1018       0.5                             1.71   \n",
       "1019       0.5                             0.93   \n",
       "\n",
       "     Max Nitrate-N + Nitrite-N (mg/l)  Min Total Coli form (MPN/100ml)  \\\n",
       "0                                3.43                              2.0   \n",
       "1                                3.81                              2.0   \n",
       "2                                0.85                              2.0   \n",
       "3                                1.66                              2.0   \n",
       "4                                   4                              2.0   \n",
       "...                               ...                              ...   \n",
       "1015                             1.77                              NaN   \n",
       "1016                             0.45                              NaN   \n",
       "1017                             0.88                              NaN   \n",
       "1018                             1.71                              NaN   \n",
       "1019                             0.93                              NaN   \n",
       "\n",
       "      Max Total Coli form (MPN/100ml)  Min Faecal Coli form (MPN/100ml)  \\\n",
       "0                                 3.0                              39.0   \n",
       "1                                 3.0                              64.0   \n",
       "2                                 3.0                              21.0   \n",
       "3                                 3.0                              21.0   \n",
       "4                                 2.0                               2.0   \n",
       "...                               ...                               ...   \n",
       "1015                              NaN                               NaN   \n",
       "1016                              NaN                               NaN   \n",
       "1017                              NaN                               NaN   \n",
       "1018                              NaN                               NaN   \n",
       "1019                              NaN                               NaN   \n",
       "\n",
       "      Max Faecal   \n",
       "0           400.0  \n",
       "1           800.0  \n",
       "2           400.0  \n",
       "3           400.0  \n",
       "4             2.0  \n",
       "...           ...  \n",
       "1015          NaN  \n",
       "1016          NaN  \n",
       "1017          NaN  \n",
       "1018          NaN  \n",
       "1019          NaN  \n",
       "\n",
       "[1020 rows x 19 columns]"
      ]
     },
     "execution_count": 2,
     "metadata": {},
     "output_type": "execute_result"
    }
   ],
   "source": [
    "gw = pd.read_csv(\"INDIA GROUND WATER.csv\")\n",
    "gw"
   ]
  },
  {
   "cell_type": "markdown",
   "metadata": {},
   "source": [
    "# DATA PRE-PROCESSING"
   ]
  },
  {
   "cell_type": "code",
   "execution_count": 3,
   "metadata": {},
   "outputs": [
    {
     "data": {
      "text/plain": [
       "(1020, 19)"
      ]
     },
     "execution_count": 3,
     "metadata": {},
     "output_type": "execute_result"
    }
   ],
   "source": [
    "gw.shape"
   ]
  },
  {
   "cell_type": "code",
   "execution_count": 4,
   "metadata": {},
   "outputs": [
    {
     "data": {
      "text/plain": [
       "<bound method DataFrame.info of       Station Code                                      Station Name   \\\n",
       "0             26.0  WELL AT GRAM PANCHAYAT\\nOFFICE, KAANURU, VIJAY...   \n",
       "1           1513.0  BOREWELL KRISHNA MURTHY, D.NO. 48-16-43 AUTONA...   \n",
       "2           1514.0         BOREWELL VIJAY KUMAR\\nAUTONAGAR VIJAYAWADA   \n",
       "3           1516.0               BOREWELL OF NAVLOK\\nGARDENS, NELLORE   \n",
       "4           1517.0            BOREWELL NEAR TUNGBHADRA\\nRIVER KURNOOL   \n",
       "...            ...                                                ...   \n",
       "1015        4730.0          GROUND WATER (DUGWELL) AT\\nHARISHPAL MORE   \n",
       "1016        4731.0  GROUNDWATER AT UTTARBANGA KRISHI\\nVISHWAVIDYALAYA   \n",
       "1017        4732.0      GROUNDWATER AT ANANDA\\nMOHAN COMMERCE COLLEGE   \n",
       "1018        4733.0                 GROUNDWATER AT SUKNA\\nFOREST RANGE   \n",
       "1019        4737.0              GROUND WATER AT SHYAMPUR\\nBUDGE BUDGE   \n",
       "\n",
       "               State  Min. Temperature ⁰C  Max Temperature ⁰C  \\\n",
       "0     ANDHRA PRADESH                 25.0                26.0   \n",
       "1     ANDHRA PRADESH                 26.0                26.0   \n",
       "2     ANDHRA PRADESH                 25.0                26.0   \n",
       "3     ANDHRA PRADESH                 19.0                19.0   \n",
       "4     ANDHRA PRADESH                 22.0                22.0   \n",
       "...              ...                  ...                 ...   \n",
       "1015     WEST BENGAL                 26.0                26.0   \n",
       "1016     WEST BENGAL                 26.0                26.0   \n",
       "1017     WEST BENGAL                 28.0                28.0   \n",
       "1018     WEST BENGAL                 26.0                26.0   \n",
       "1019     WEST BENGAL                 28.0                28.0   \n",
       "\n",
       "     Min Dissolved O2 Max Dissolved O2  Min pH  Max pH  \\\n",
       "0                 3.9              4.8     7.8     7.9   \n",
       "1                 3.8              4.5     7.4     7.7   \n",
       "2                 4.8              5.1     7.4     7.7   \n",
       "3                 3.8              3.9     7.8     8.1   \n",
       "4                 4.5              4.5     7.5     7.5   \n",
       "...               ...              ...     ...     ...   \n",
       "1015              NaN              NaN     7.6     7.6   \n",
       "1016              NaN              NaN     7.7     7.7   \n",
       "1017              NaN              NaN     7.9     7.9   \n",
       "1018              NaN              NaN     7.4     7.4   \n",
       "1019              NaN              NaN     7.7     7.7   \n",
       "\n",
       "      Min Conductivity((µmhos/cm))  Max Conductivity (µmhos/cm) Min B.O.D  \\\n",
       "0                           1814.0                       1841.0       0.8   \n",
       "1                           1796.0                       1873.0       0.8   \n",
       "2                           1561.0                       1875.0       1.2   \n",
       "3                            890.0                       1566.0       1.2   \n",
       "4                           5010.0                       5010.0       0.8   \n",
       "...                            ...                          ...       ...   \n",
       "1015                         882.0                        882.0       0.8   \n",
       "1016                         293.0                        293.0       0.3   \n",
       "1017                         611.0                        611.0       0.6   \n",
       "1018                         365.0                        365.0       0.5   \n",
       "1019                        7439.0                       7439.0       0.5   \n",
       "\n",
       "     Max B.O.D Min Nitrate-N + Nitrite-N (mg/l)  \\\n",
       "0          1.4                             0.48   \n",
       "1          1.4                             0.74   \n",
       "2          4.1                             0.83   \n",
       "3          1.2                              1.5   \n",
       "4          0.8                                4   \n",
       "...        ...                              ...   \n",
       "1015       0.8                             1.77   \n",
       "1016       0.3                             0.45   \n",
       "1017       0.6                             0.88   \n",
       "1018       0.5                             1.71   \n",
       "1019       0.5                             0.93   \n",
       "\n",
       "     Max Nitrate-N + Nitrite-N (mg/l)  Min Total Coli form (MPN/100ml)  \\\n",
       "0                                3.43                              2.0   \n",
       "1                                3.81                              2.0   \n",
       "2                                0.85                              2.0   \n",
       "3                                1.66                              2.0   \n",
       "4                                   4                              2.0   \n",
       "...                               ...                              ...   \n",
       "1015                             1.77                              NaN   \n",
       "1016                             0.45                              NaN   \n",
       "1017                             0.88                              NaN   \n",
       "1018                             1.71                              NaN   \n",
       "1019                             0.93                              NaN   \n",
       "\n",
       "      Max Total Coli form (MPN/100ml)  Min Faecal Coli form (MPN/100ml)  \\\n",
       "0                                 3.0                              39.0   \n",
       "1                                 3.0                              64.0   \n",
       "2                                 3.0                              21.0   \n",
       "3                                 3.0                              21.0   \n",
       "4                                 2.0                               2.0   \n",
       "...                               ...                               ...   \n",
       "1015                              NaN                               NaN   \n",
       "1016                              NaN                               NaN   \n",
       "1017                              NaN                               NaN   \n",
       "1018                              NaN                               NaN   \n",
       "1019                              NaN                               NaN   \n",
       "\n",
       "      Max Faecal   \n",
       "0           400.0  \n",
       "1           800.0  \n",
       "2           400.0  \n",
       "3           400.0  \n",
       "4             2.0  \n",
       "...           ...  \n",
       "1015          NaN  \n",
       "1016          NaN  \n",
       "1017          NaN  \n",
       "1018          NaN  \n",
       "1019          NaN  \n",
       "\n",
       "[1020 rows x 19 columns]>"
      ]
     },
     "execution_count": 4,
     "metadata": {},
     "output_type": "execute_result"
    }
   ],
   "source": [
    "gw.info"
   ]
  },
  {
   "cell_type": "code",
   "execution_count": 5,
   "metadata": {},
   "outputs": [
    {
     "data": {
      "text/html": [
       "<div>\n",
       "<style scoped>\n",
       "    .dataframe tbody tr th:only-of-type {\n",
       "        vertical-align: middle;\n",
       "    }\n",
       "\n",
       "    .dataframe tbody tr th {\n",
       "        vertical-align: top;\n",
       "    }\n",
       "\n",
       "    .dataframe thead th {\n",
       "        text-align: right;\n",
       "    }\n",
       "</style>\n",
       "<table border=\"1\" class=\"dataframe\">\n",
       "  <thead>\n",
       "    <tr style=\"text-align: right;\">\n",
       "      <th></th>\n",
       "      <th>Station Code</th>\n",
       "      <th>Min. Temperature ⁰C</th>\n",
       "      <th>Max Temperature ⁰C</th>\n",
       "      <th>Min pH</th>\n",
       "      <th>Max pH</th>\n",
       "      <th>Min Conductivity((µmhos/cm))</th>\n",
       "      <th>Max Conductivity (µmhos/cm)</th>\n",
       "      <th>Min Total Coli form (MPN/100ml)</th>\n",
       "      <th>Max Total Coli form (MPN/100ml)</th>\n",
       "      <th>Min Faecal Coli form (MPN/100ml)</th>\n",
       "      <th>Max Faecal</th>\n",
       "    </tr>\n",
       "  </thead>\n",
       "  <tbody>\n",
       "    <tr>\n",
       "      <th>count</th>\n",
       "      <td>1013.000000</td>\n",
       "      <td>907.000000</td>\n",
       "      <td>907.000000</td>\n",
       "      <td>994.000000</td>\n",
       "      <td>994.000000</td>\n",
       "      <td>995.000000</td>\n",
       "      <td>995.000000</td>\n",
       "      <td>688.000000</td>\n",
       "      <td>688.000000</td>\n",
       "      <td>718.000000</td>\n",
       "      <td>718.000000</td>\n",
       "    </tr>\n",
       "    <tr>\n",
       "      <th>mean</th>\n",
       "      <td>3021.910168</td>\n",
       "      <td>25.085557</td>\n",
       "      <td>26.682139</td>\n",
       "      <td>7.130382</td>\n",
       "      <td>8.121127</td>\n",
       "      <td>1812.738693</td>\n",
       "      <td>2283.580905</td>\n",
       "      <td>31.274709</td>\n",
       "      <td>128.116279</td>\n",
       "      <td>72.995822</td>\n",
       "      <td>299.233983</td>\n",
       "    </tr>\n",
       "    <tr>\n",
       "      <th>std</th>\n",
       "      <td>1089.566488</td>\n",
       "      <td>4.790418</td>\n",
       "      <td>4.490634</td>\n",
       "      <td>0.694245</td>\n",
       "      <td>22.039409</td>\n",
       "      <td>5031.059785</td>\n",
       "      <td>5438.789311</td>\n",
       "      <td>160.070013</td>\n",
       "      <td>1166.742761</td>\n",
       "      <td>268.036039</td>\n",
       "      <td>2599.889761</td>\n",
       "    </tr>\n",
       "    <tr>\n",
       "      <th>min</th>\n",
       "      <td>3.000000</td>\n",
       "      <td>0.000000</td>\n",
       "      <td>0.000000</td>\n",
       "      <td>0.000000</td>\n",
       "      <td>4.800000</td>\n",
       "      <td>0.000000</td>\n",
       "      <td>41.000000</td>\n",
       "      <td>2.000000</td>\n",
       "      <td>2.000000</td>\n",
       "      <td>2.000000</td>\n",
       "      <td>2.000000</td>\n",
       "    </tr>\n",
       "    <tr>\n",
       "      <th>25%</th>\n",
       "      <td>2002.000000</td>\n",
       "      <td>23.000000</td>\n",
       "      <td>24.500000</td>\n",
       "      <td>6.900000</td>\n",
       "      <td>7.200000</td>\n",
       "      <td>298.000000</td>\n",
       "      <td>387.500000</td>\n",
       "      <td>2.000000</td>\n",
       "      <td>2.000000</td>\n",
       "      <td>2.000000</td>\n",
       "      <td>2.000000</td>\n",
       "    </tr>\n",
       "    <tr>\n",
       "      <th>50%</th>\n",
       "      <td>3006.000000</td>\n",
       "      <td>26.000000</td>\n",
       "      <td>27.000000</td>\n",
       "      <td>7.200000</td>\n",
       "      <td>7.500000</td>\n",
       "      <td>759.000000</td>\n",
       "      <td>991.000000</td>\n",
       "      <td>2.000000</td>\n",
       "      <td>2.000000</td>\n",
       "      <td>2.000000</td>\n",
       "      <td>5.000000</td>\n",
       "    </tr>\n",
       "    <tr>\n",
       "      <th>75%</th>\n",
       "      <td>3993.000000</td>\n",
       "      <td>28.000000</td>\n",
       "      <td>29.450000</td>\n",
       "      <td>7.600000</td>\n",
       "      <td>7.800000</td>\n",
       "      <td>1610.000000</td>\n",
       "      <td>2055.000000</td>\n",
       "      <td>3.000000</td>\n",
       "      <td>7.000000</td>\n",
       "      <td>10.750000</td>\n",
       "      <td>33.750000</td>\n",
       "    </tr>\n",
       "    <tr>\n",
       "      <th>max</th>\n",
       "      <td>4826.000000</td>\n",
       "      <td>60.000000</td>\n",
       "      <td>66.000000</td>\n",
       "      <td>9.200000</td>\n",
       "      <td>702.000000</td>\n",
       "      <td>59220.000000</td>\n",
       "      <td>59220.000000</td>\n",
       "      <td>1600.000000</td>\n",
       "      <td>26000.000000</td>\n",
       "      <td>1800.000000</td>\n",
       "      <td>49000.000000</td>\n",
       "    </tr>\n",
       "  </tbody>\n",
       "</table>\n",
       "</div>"
      ],
      "text/plain": [
       "       Station Code  Min. Temperature ⁰C  Max Temperature ⁰C      Min pH  \\\n",
       "count   1013.000000           907.000000          907.000000  994.000000   \n",
       "mean    3021.910168            25.085557           26.682139    7.130382   \n",
       "std     1089.566488             4.790418            4.490634    0.694245   \n",
       "min        3.000000             0.000000            0.000000    0.000000   \n",
       "25%     2002.000000            23.000000           24.500000    6.900000   \n",
       "50%     3006.000000            26.000000           27.000000    7.200000   \n",
       "75%     3993.000000            28.000000           29.450000    7.600000   \n",
       "max     4826.000000            60.000000           66.000000    9.200000   \n",
       "\n",
       "           Max pH  Min Conductivity((µmhos/cm))  Max Conductivity (µmhos/cm)  \\\n",
       "count  994.000000                    995.000000                   995.000000   \n",
       "mean     8.121127                   1812.738693                  2283.580905   \n",
       "std     22.039409                   5031.059785                  5438.789311   \n",
       "min      4.800000                      0.000000                    41.000000   \n",
       "25%      7.200000                    298.000000                   387.500000   \n",
       "50%      7.500000                    759.000000                   991.000000   \n",
       "75%      7.800000                   1610.000000                  2055.000000   \n",
       "max    702.000000                  59220.000000                 59220.000000   \n",
       "\n",
       "       Min Total Coli form (MPN/100ml)  Max Total Coli form (MPN/100ml)  \\\n",
       "count                       688.000000                       688.000000   \n",
       "mean                         31.274709                       128.116279   \n",
       "std                         160.070013                      1166.742761   \n",
       "min                           2.000000                         2.000000   \n",
       "25%                           2.000000                         2.000000   \n",
       "50%                           2.000000                         2.000000   \n",
       "75%                           3.000000                         7.000000   \n",
       "max                        1600.000000                     26000.000000   \n",
       "\n",
       "       Min Faecal Coli form (MPN/100ml)   Max Faecal   \n",
       "count                        718.000000    718.000000  \n",
       "mean                          72.995822    299.233983  \n",
       "std                          268.036039   2599.889761  \n",
       "min                            2.000000      2.000000  \n",
       "25%                            2.000000      2.000000  \n",
       "50%                            2.000000      5.000000  \n",
       "75%                           10.750000     33.750000  \n",
       "max                         1800.000000  49000.000000  "
      ]
     },
     "execution_count": 5,
     "metadata": {},
     "output_type": "execute_result"
    }
   ],
   "source": [
    "gw.describe()"
   ]
  },
  {
   "cell_type": "code",
   "execution_count": 6,
   "metadata": {},
   "outputs": [
    {
     "data": {
      "text/plain": [
       "Index(['Station Code', 'Station Name ', 'State', 'Min. Temperature ⁰C',\n",
       "       'Max Temperature ⁰C', 'Min Dissolved O2', 'Max Dissolved O2', 'Min pH',\n",
       "       'Max pH', 'Min Conductivity((µmhos/cm))', 'Max Conductivity (µmhos/cm)',\n",
       "       'Min B.O.D', 'Max B.O.D', 'Min Nitrate-N + Nitrite-N (mg/l)',\n",
       "       'Max Nitrate-N + Nitrite-N (mg/l)', 'Min Total Coli form (MPN/100ml)',\n",
       "       'Max Total Coli form (MPN/100ml)', 'Min Faecal Coli form (MPN/100ml)',\n",
       "       'Max Faecal '],\n",
       "      dtype='object')"
      ]
     },
     "execution_count": 6,
     "metadata": {},
     "output_type": "execute_result"
    }
   ],
   "source": [
    "gw.columns"
   ]
  },
  {
   "cell_type": "code",
   "execution_count": 7,
   "metadata": {},
   "outputs": [
    {
     "data": {
      "text/plain": [
       "Station Code                          7\n",
       "Station Name                          0\n",
       "State                                 7\n",
       "Min. Temperature ⁰C                 113\n",
       "Max Temperature ⁰C                  113\n",
       "Min Dissolved O2                    628\n",
       "Max Dissolved O2                    628\n",
       "Min pH                               26\n",
       "Max pH                               26\n",
       "Min Conductivity((µmhos/cm))         25\n",
       "Max Conductivity (µmhos/cm)          25\n",
       "Min B.O.D                           339\n",
       "Max B.O.D                           339\n",
       "Min Nitrate-N + Nitrite-N (mg/l)     97\n",
       "Max Nitrate-N + Nitrite-N (mg/l)     97\n",
       "Min Total Coli form (MPN/100ml)     332\n",
       "Max Total Coli form (MPN/100ml)     332\n",
       "Min Faecal Coli form (MPN/100ml)    302\n",
       "Max Faecal                          302\n",
       "dtype: int64"
      ]
     },
     "execution_count": 7,
     "metadata": {},
     "output_type": "execute_result"
    }
   ],
   "source": [
    "#Checking for Null values\n",
    "gw.isnull().sum()"
   ]
  },
  {
   "cell_type": "code",
   "execution_count": 8,
   "metadata": {},
   "outputs": [],
   "source": [
    "gw['Min. Temperature ⁰C'] = gw['Min. Temperature ⁰C'].fillna(0)"
   ]
  },
  {
   "cell_type": "code",
   "execution_count": 9,
   "metadata": {},
   "outputs": [],
   "source": [
    "gw['Max Temperature ⁰C'] = gw['Max Temperature ⁰C'].fillna(0)"
   ]
  },
  {
   "cell_type": "code",
   "execution_count": 10,
   "metadata": {},
   "outputs": [],
   "source": [
    "gw['Min Dissolved O2'] = gw['Min Dissolved O2'].fillna(0)"
   ]
  },
  {
   "cell_type": "code",
   "execution_count": 11,
   "metadata": {},
   "outputs": [],
   "source": [
    "gw['Max Dissolved O2'] = gw['Max Dissolved O2'].fillna(0)"
   ]
  },
  {
   "cell_type": "code",
   "execution_count": 12,
   "metadata": {},
   "outputs": [],
   "source": [
    "gw['Min pH'] = gw['Min pH'].fillna(0)"
   ]
  },
  {
   "cell_type": "code",
   "execution_count": 13,
   "metadata": {},
   "outputs": [],
   "source": [
    "gw['Max pH'] = gw['Max pH'].fillna(0)"
   ]
  },
  {
   "cell_type": "code",
   "execution_count": 14,
   "metadata": {},
   "outputs": [],
   "source": [
    "gw['Min Conductivity((µmhos/cm))'] = gw['Min Conductivity((µmhos/cm))'].fillna(0)"
   ]
  },
  {
   "cell_type": "code",
   "execution_count": 15,
   "metadata": {},
   "outputs": [],
   "source": [
    "gw['Max Conductivity (µmhos/cm)'] = gw['Max Conductivity (µmhos/cm)'].fillna(0)"
   ]
  },
  {
   "cell_type": "code",
   "execution_count": 16,
   "metadata": {},
   "outputs": [],
   "source": [
    "gw['Min B.O.D'] = gw['Min B.O.D'].fillna(0)"
   ]
  },
  {
   "cell_type": "code",
   "execution_count": 17,
   "metadata": {},
   "outputs": [],
   "source": [
    "gw['Max B.O.D'] = gw['Max B.O.D'].fillna(0)"
   ]
  },
  {
   "cell_type": "code",
   "execution_count": 18,
   "metadata": {},
   "outputs": [],
   "source": [
    "gw['Min Nitrate-N + Nitrite-N (mg/l)'] = gw['Min Nitrate-N + Nitrite-N (mg/l)'].fillna(0)"
   ]
  },
  {
   "cell_type": "code",
   "execution_count": 19,
   "metadata": {},
   "outputs": [],
   "source": [
    "gw['Max Nitrate-N + Nitrite-N (mg/l)'] = gw['Max Nitrate-N + Nitrite-N (mg/l)'].fillna(0)"
   ]
  },
  {
   "cell_type": "code",
   "execution_count": 20,
   "metadata": {},
   "outputs": [],
   "source": [
    "gw['Min Total Coli form (MPN/100ml)'] = gw['Min Total Coli form (MPN/100ml)'].fillna(0)"
   ]
  },
  {
   "cell_type": "code",
   "execution_count": 21,
   "metadata": {},
   "outputs": [],
   "source": [
    "gw['Max Total Coli form (MPN/100ml)'] = gw['Max Total Coli form (MPN/100ml)'].fillna(0)"
   ]
  },
  {
   "cell_type": "code",
   "execution_count": 22,
   "metadata": {},
   "outputs": [],
   "source": [
    "gw['Min Faecal Coli form (MPN/100ml)'] = gw['Min Faecal Coli form (MPN/100ml)'].fillna(0)"
   ]
  },
  {
   "cell_type": "code",
   "execution_count": 23,
   "metadata": {},
   "outputs": [],
   "source": [
    "gw['Max Faecal '] = gw['Max Faecal '].fillna(0)"
   ]
  },
  {
   "cell_type": "code",
   "execution_count": 24,
   "metadata": {},
   "outputs": [
    {
     "data": {
      "text/plain": [
       "Station Code                        7\n",
       "Station Name                        0\n",
       "State                               7\n",
       "Min. Temperature ⁰C                 0\n",
       "Max Temperature ⁰C                  0\n",
       "Min Dissolved O2                    0\n",
       "Max Dissolved O2                    0\n",
       "Min pH                              0\n",
       "Max pH                              0\n",
       "Min Conductivity((µmhos/cm))        0\n",
       "Max Conductivity (µmhos/cm)         0\n",
       "Min B.O.D                           0\n",
       "Max B.O.D                           0\n",
       "Min Nitrate-N + Nitrite-N (mg/l)    0\n",
       "Max Nitrate-N + Nitrite-N (mg/l)    0\n",
       "Min Total Coli form (MPN/100ml)     0\n",
       "Max Total Coli form (MPN/100ml)     0\n",
       "Min Faecal Coli form (MPN/100ml)    0\n",
       "Max Faecal                          0\n",
       "dtype: int64"
      ]
     },
     "execution_count": 24,
     "metadata": {},
     "output_type": "execute_result"
    }
   ],
   "source": [
    "#Checking for Null values\n",
    "gw.isnull().sum()"
   ]
  },
  {
   "cell_type": "code",
   "execution_count": 25,
   "metadata": {},
   "outputs": [
    {
     "data": {
      "text/plain": [
       "Station Code                        float64\n",
       "Station Name                         object\n",
       "State                                object\n",
       "Min. Temperature ⁰C                 float64\n",
       "Max Temperature ⁰C                  float64\n",
       "Min Dissolved O2                     object\n",
       "Max Dissolved O2                     object\n",
       "Min pH                              float64\n",
       "Max pH                              float64\n",
       "Min Conductivity((µmhos/cm))        float64\n",
       "Max Conductivity (µmhos/cm)         float64\n",
       "Min B.O.D                            object\n",
       "Max B.O.D                            object\n",
       "Min Nitrate-N + Nitrite-N (mg/l)     object\n",
       "Max Nitrate-N + Nitrite-N (mg/l)     object\n",
       "Min Total Coli form (MPN/100ml)     float64\n",
       "Max Total Coli form (MPN/100ml)     float64\n",
       "Min Faecal Coli form (MPN/100ml)    float64\n",
       "Max Faecal                          float64\n",
       "dtype: object"
      ]
     },
     "execution_count": 25,
     "metadata": {},
     "output_type": "execute_result"
    }
   ],
   "source": [
    "gw.dtypes"
   ]
  },
  {
   "cell_type": "code",
   "execution_count": 26,
   "metadata": {},
   "outputs": [
    {
     "data": {
      "text/plain": [
       "Station Code                        float64\n",
       "Station Name                         object\n",
       "State                                object\n",
       "Min. Temperature ⁰C                 float64\n",
       "Max Temperature ⁰C                  float64\n",
       "Min Dissolved O2                    float64\n",
       "Max Dissolved O2                    float64\n",
       "Min pH                              float64\n",
       "Max pH                              float64\n",
       "Min Conductivity((µmhos/cm))        float64\n",
       "Max Conductivity (µmhos/cm)         float64\n",
       "Min B.O.D                           float64\n",
       "Max B.O.D                           float64\n",
       "Min Nitrate-N + Nitrite-N (mg/l)    float64\n",
       "Max Nitrate-N + Nitrite-N (mg/l)    float64\n",
       "Min Total Coli form (MPN/100ml)     float64\n",
       "Max Total Coli form (MPN/100ml)     float64\n",
       "Min Faecal Coli form (MPN/100ml)    float64\n",
       "Max Faecal                          float64\n",
       "dtype: object"
      ]
     },
     "execution_count": 26,
     "metadata": {},
     "output_type": "execute_result"
    }
   ],
   "source": [
    "#conversions\n",
    "gw['Min Dissolved O2']=pd.to_numeric(gw['Min Dissolved O2'],errors='coerce')\n",
    "gw['Max Dissolved O2']=pd.to_numeric(gw['Max Dissolved O2'],errors='coerce')\n",
    "gw['Min B.O.D']=pd.to_numeric(gw['Min B.O.D'],errors='coerce')\n",
    "gw['Max B.O.D']=pd.to_numeric(gw['Max B.O.D'],errors='coerce')\n",
    "gw['Min Nitrate-N + Nitrite-N (mg/l)']=pd.to_numeric(gw['Min Nitrate-N + Nitrite-N (mg/l)'],errors='coerce')\n",
    "gw['Max Nitrate-N + Nitrite-N (mg/l)']=pd.to_numeric(gw['Max Nitrate-N + Nitrite-N (mg/l)'],errors='coerce')\n",
    "gw.dtypes"
   ]
  },
  {
   "cell_type": "code",
   "execution_count": 27,
   "metadata": {},
   "outputs": [],
   "source": [
    "#Calculating Average Temperature\n",
    "Avg_Temperature=(gw[\"Min. Temperature ⁰C\"] + gw[\"Max Temperature ⁰C\"])/2\n",
    "gw[\"Temperature\"]=Avg_Temperature"
   ]
  },
  {
   "cell_type": "code",
   "execution_count": 28,
   "metadata": {},
   "outputs": [],
   "source": [
    "#Calculating Average DO\n",
    "Avg_DissolvedO2=(gw[\"Min Dissolved O2\"] + gw[\"Max Dissolved O2\"])/2\n",
    "gw[\"DO\"]=Avg_DissolvedO2"
   ]
  },
  {
   "cell_type": "code",
   "execution_count": 29,
   "metadata": {},
   "outputs": [],
   "source": [
    "#Calculating Average pH\n",
    "Avg_pH=(gw[\"Min pH\"] + gw[\"Max pH\"])/2\n",
    "gw[\"pH\"]=Avg_pH"
   ]
  },
  {
   "cell_type": "code",
   "execution_count": 30,
   "metadata": {},
   "outputs": [],
   "source": [
    "#Calculating Average Conductivity\n",
    "Avg_Conductivity=(gw[\"Min Conductivity((µmhos/cm))\"] + gw[\"Max Conductivity (µmhos/cm)\"])/2\n",
    "gw[\"Conductivity\"]=Avg_Conductivity"
   ]
  },
  {
   "cell_type": "code",
   "execution_count": 31,
   "metadata": {},
   "outputs": [],
   "source": [
    "#Calculating Average BOD\n",
    "Avg_BOD=(gw[\"Min B.O.D\"] + gw[\"Max B.O.D\"])/2\n",
    "gw[\"BOD\"]=Avg_BOD"
   ]
  },
  {
   "cell_type": "code",
   "execution_count": 32,
   "metadata": {},
   "outputs": [],
   "source": [
    "# Changing column name and calculating average Nitrate value \n",
    "gw = gw.rename(columns={\"Min Nitrate-N + Nitrite-N (mg/l)\":\"Min NitrateN + NitriteN(mg/l)\"})\n",
    "gw = gw.rename(columns={\"Max Nitrate-N + Nitrite-N (mg/l)\":\"Max NitrateN + NitriteN(mg/l)\"})\n",
    "Avg_NA=(gw[\"Min NitrateN + NitriteN(mg/l)\"] + gw[\"Max NitrateN + NitriteN(mg/l)\"])/2\n",
    "gw[\"Nitrate\"]=Avg_NA"
   ]
  },
  {
   "cell_type": "code",
   "execution_count": 33,
   "metadata": {},
   "outputs": [],
   "source": [
    "#Calculating Average TotalColiform\n",
    "Avg_TotalColiform=(gw[\"Min Total Coli form (MPN/100ml)\"] + gw[\"Max Total Coli form (MPN/100ml)\"])/2\n",
    "gw[\"TotalColiform\"]=Avg_TotalColiform"
   ]
  },
  {
   "cell_type": "code",
   "execution_count": 34,
   "metadata": {},
   "outputs": [],
   "source": [
    "#Calculating Average FaecalColiform\n",
    "Avg_FaecalColiform=(gw[\"Min Faecal Coli form (MPN/100ml)\"] + gw[\"Max Faecal \"])/2\n",
    "gw[\"FaecalColiform\"]=Avg_FaecalColiform"
   ]
  },
  {
   "cell_type": "code",
   "execution_count": 35,
   "metadata": {},
   "outputs": [],
   "source": [
    "#Drop some column names\n",
    "gw.drop('Min. Temperature ⁰C',axis=1, inplace=True)"
   ]
  },
  {
   "cell_type": "code",
   "execution_count": 36,
   "metadata": {},
   "outputs": [],
   "source": [
    "gw.drop('Max Temperature ⁰C',axis=1, inplace=True)"
   ]
  },
  {
   "cell_type": "code",
   "execution_count": 37,
   "metadata": {},
   "outputs": [],
   "source": [
    "gw.drop(\"Min Dissolved O2\",axis=1, inplace=True)"
   ]
  },
  {
   "cell_type": "code",
   "execution_count": 38,
   "metadata": {},
   "outputs": [],
   "source": [
    "gw.drop(\"Max Dissolved O2\",axis=1, inplace=True)"
   ]
  },
  {
   "cell_type": "code",
   "execution_count": 39,
   "metadata": {},
   "outputs": [],
   "source": [
    "gw.drop(\"Min pH\",axis=1, inplace=True)"
   ]
  },
  {
   "cell_type": "code",
   "execution_count": 40,
   "metadata": {},
   "outputs": [],
   "source": [
    "gw.drop(\"Max pH\",axis=1, inplace=True)"
   ]
  },
  {
   "cell_type": "code",
   "execution_count": 41,
   "metadata": {},
   "outputs": [],
   "source": [
    "gw.drop(\"Min Conductivity((µmhos/cm))\",axis=1, inplace=True)"
   ]
  },
  {
   "cell_type": "code",
   "execution_count": 42,
   "metadata": {},
   "outputs": [],
   "source": [
    "gw.drop(\"Max Conductivity (µmhos/cm)\",axis=1, inplace=True)"
   ]
  },
  {
   "cell_type": "code",
   "execution_count": 43,
   "metadata": {},
   "outputs": [],
   "source": [
    "gw.drop(\"Min B.O.D\",axis=1, inplace=True)"
   ]
  },
  {
   "cell_type": "code",
   "execution_count": 44,
   "metadata": {},
   "outputs": [],
   "source": [
    "gw.drop(\"Max B.O.D\",axis=1, inplace=True)"
   ]
  },
  {
   "cell_type": "code",
   "execution_count": 45,
   "metadata": {},
   "outputs": [],
   "source": [
    "gw.drop(\"Min NitrateN + NitriteN(mg/l)\",axis=1, inplace=True)"
   ]
  },
  {
   "cell_type": "code",
   "execution_count": 46,
   "metadata": {},
   "outputs": [],
   "source": [
    "gw.drop(\"Max NitrateN + NitriteN(mg/l)\",axis=1, inplace=True)"
   ]
  },
  {
   "cell_type": "code",
   "execution_count": 47,
   "metadata": {},
   "outputs": [],
   "source": [
    "gw.drop(\"Min Total Coli form (MPN/100ml)\",axis=1, inplace=True)"
   ]
  },
  {
   "cell_type": "code",
   "execution_count": 48,
   "metadata": {},
   "outputs": [],
   "source": [
    "gw.drop(\"Max Total Coli form (MPN/100ml)\",axis=1, inplace=True)"
   ]
  },
  {
   "cell_type": "code",
   "execution_count": 49,
   "metadata": {},
   "outputs": [],
   "source": [
    "gw.drop(\"Min Faecal Coli form (MPN/100ml)\",axis=1, inplace=True)"
   ]
  },
  {
   "cell_type": "code",
   "execution_count": 50,
   "metadata": {},
   "outputs": [],
   "source": [
    "gw.drop(\"Max Faecal \",axis=1, inplace=True)"
   ]
  },
  {
   "cell_type": "code",
   "execution_count": 51,
   "metadata": {},
   "outputs": [
    {
     "data": {
      "text/html": [
       "<div>\n",
       "<style scoped>\n",
       "    .dataframe tbody tr th:only-of-type {\n",
       "        vertical-align: middle;\n",
       "    }\n",
       "\n",
       "    .dataframe tbody tr th {\n",
       "        vertical-align: top;\n",
       "    }\n",
       "\n",
       "    .dataframe thead th {\n",
       "        text-align: right;\n",
       "    }\n",
       "</style>\n",
       "<table border=\"1\" class=\"dataframe\">\n",
       "  <thead>\n",
       "    <tr style=\"text-align: right;\">\n",
       "      <th></th>\n",
       "      <th>Station Code</th>\n",
       "      <th>Station Name</th>\n",
       "      <th>State</th>\n",
       "      <th>Temperature</th>\n",
       "      <th>DO</th>\n",
       "      <th>pH</th>\n",
       "      <th>Conductivity</th>\n",
       "      <th>BOD</th>\n",
       "      <th>Nitrate</th>\n",
       "      <th>TotalColiform</th>\n",
       "      <th>FaecalColiform</th>\n",
       "    </tr>\n",
       "  </thead>\n",
       "  <tbody>\n",
       "    <tr>\n",
       "      <th>0</th>\n",
       "      <td>26.0</td>\n",
       "      <td>WELL AT GRAM PANCHAYAT\\nOFFICE, KAANURU, VIJAY...</td>\n",
       "      <td>ANDHRA PRADESH</td>\n",
       "      <td>25.5</td>\n",
       "      <td>4.35</td>\n",
       "      <td>7.85</td>\n",
       "      <td>1827.5</td>\n",
       "      <td>1.10</td>\n",
       "      <td>1.955</td>\n",
       "      <td>2.5</td>\n",
       "      <td>219.5</td>\n",
       "    </tr>\n",
       "    <tr>\n",
       "      <th>1</th>\n",
       "      <td>1513.0</td>\n",
       "      <td>BOREWELL KRISHNA MURTHY, D.NO. 48-16-43 AUTONA...</td>\n",
       "      <td>ANDHRA PRADESH</td>\n",
       "      <td>26.0</td>\n",
       "      <td>4.15</td>\n",
       "      <td>7.55</td>\n",
       "      <td>1834.5</td>\n",
       "      <td>1.10</td>\n",
       "      <td>2.275</td>\n",
       "      <td>2.5</td>\n",
       "      <td>432.0</td>\n",
       "    </tr>\n",
       "    <tr>\n",
       "      <th>2</th>\n",
       "      <td>1514.0</td>\n",
       "      <td>BOREWELL VIJAY KUMAR\\nAUTONAGAR VIJAYAWADA</td>\n",
       "      <td>ANDHRA PRADESH</td>\n",
       "      <td>25.5</td>\n",
       "      <td>4.95</td>\n",
       "      <td>7.55</td>\n",
       "      <td>1718.0</td>\n",
       "      <td>2.65</td>\n",
       "      <td>0.840</td>\n",
       "      <td>2.5</td>\n",
       "      <td>210.5</td>\n",
       "    </tr>\n",
       "    <tr>\n",
       "      <th>3</th>\n",
       "      <td>1516.0</td>\n",
       "      <td>BOREWELL OF NAVLOK\\nGARDENS, NELLORE</td>\n",
       "      <td>ANDHRA PRADESH</td>\n",
       "      <td>19.0</td>\n",
       "      <td>3.85</td>\n",
       "      <td>7.95</td>\n",
       "      <td>1228.0</td>\n",
       "      <td>1.20</td>\n",
       "      <td>1.580</td>\n",
       "      <td>2.5</td>\n",
       "      <td>210.5</td>\n",
       "    </tr>\n",
       "    <tr>\n",
       "      <th>4</th>\n",
       "      <td>1517.0</td>\n",
       "      <td>BOREWELL NEAR TUNGBHADRA\\nRIVER KURNOOL</td>\n",
       "      <td>ANDHRA PRADESH</td>\n",
       "      <td>22.0</td>\n",
       "      <td>4.50</td>\n",
       "      <td>7.50</td>\n",
       "      <td>5010.0</td>\n",
       "      <td>0.80</td>\n",
       "      <td>4.000</td>\n",
       "      <td>2.0</td>\n",
       "      <td>2.0</td>\n",
       "    </tr>\n",
       "  </tbody>\n",
       "</table>\n",
       "</div>"
      ],
      "text/plain": [
       "   Station Code                                      Station Name   \\\n",
       "0          26.0  WELL AT GRAM PANCHAYAT\\nOFFICE, KAANURU, VIJAY...   \n",
       "1        1513.0  BOREWELL KRISHNA MURTHY, D.NO. 48-16-43 AUTONA...   \n",
       "2        1514.0         BOREWELL VIJAY KUMAR\\nAUTONAGAR VIJAYAWADA   \n",
       "3        1516.0               BOREWELL OF NAVLOK\\nGARDENS, NELLORE   \n",
       "4        1517.0            BOREWELL NEAR TUNGBHADRA\\nRIVER KURNOOL   \n",
       "\n",
       "            State  Temperature    DO    pH  Conductivity   BOD  Nitrate  \\\n",
       "0  ANDHRA PRADESH         25.5  4.35  7.85        1827.5  1.10    1.955   \n",
       "1  ANDHRA PRADESH         26.0  4.15  7.55        1834.5  1.10    2.275   \n",
       "2  ANDHRA PRADESH         25.5  4.95  7.55        1718.0  2.65    0.840   \n",
       "3  ANDHRA PRADESH         19.0  3.85  7.95        1228.0  1.20    1.580   \n",
       "4  ANDHRA PRADESH         22.0  4.50  7.50        5010.0  0.80    4.000   \n",
       "\n",
       "   TotalColiform  FaecalColiform  \n",
       "0            2.5           219.5  \n",
       "1            2.5           432.0  \n",
       "2            2.5           210.5  \n",
       "3            2.5           210.5  \n",
       "4            2.0             2.0  "
      ]
     },
     "execution_count": 51,
     "metadata": {},
     "output_type": "execute_result"
    }
   ],
   "source": [
    "gw.head()"
   ]
  },
  {
   "cell_type": "markdown",
   "metadata": {},
   "source": [
    "# HYPOTHESIS GENERATION \n",
    "(To check whether the groundwater is suitable for drinking or not some certain measures need to be kept in mind so for this we have generated some hypothesis.)\n",
    "They are:- \n",
    "    For pH - Range must be 6.5-8.5 \n",
    "    For Nitrate - Value must be less than 20 \n",
    "    For Coliform - None must be detectable"
   ]
  },
  {
   "cell_type": "markdown",
   "metadata": {},
   "source": [
    "# DATA VISUALISATION"
   ]
  },
  {
   "cell_type": "code",
   "execution_count": 52,
   "metadata": {},
   "outputs": [
    {
     "data": {
      "text/plain": [
       "<AxesSubplot:>"
      ]
     },
     "execution_count": 52,
     "metadata": {},
     "output_type": "execute_result"
    },
    {
     "data": {
      "image/png": "[encoded data removed]",
      "text/plain": [
       "<Figure size 432x288 with 1 Axes>"
      ]
     },
     "metadata": {
      "needs_background": "light"
     },
     "output_type": "display_data"
    }
   ],
   "source": [
    "#Bar graph of State\n",
    "gw['State'].value_counts().plot.bar()"
   ]
  },
  {
   "cell_type": "code",
   "execution_count": 53,
   "metadata": {},
   "outputs": [
    {
     "data": {
      "image/png": "[encoded data removed]",
      "text/plain": [
       "<Figure size 864x576 with 1 Axes>"
      ]
     },
     "metadata": {
      "needs_background": "light"
     },
     "output_type": "display_data"
    }
   ],
   "source": [
    "#Alkaline water\n",
    "plt.figure(figsize = (12,8))\n",
    "gw.groupby(\"State\")[\"pH\"].mean().sort_values(ascending = False).head(10).plot.bar()\n",
    "plt.ylabel(\"pH\")\n",
    "plt.title(\"States having alkaline water according to mean pH for year 2019\")\n",
    "plt.show()"
   ]
  },
  {
   "cell_type": "code",
   "execution_count": 54,
   "metadata": {},
   "outputs": [
    {
     "data": {
      "image/png": "[encoded data removed]",
      "text/plain": [
       "<Figure size 864x576 with 1 Axes>"
      ]
     },
     "metadata": {
      "needs_background": "light"
     },
     "output_type": "display_data"
    }
   ],
   "source": [
    "#Acidic Water\n",
    "plt.figure(figsize = (12,8))\n",
    "gw.groupby(\"State\")[\"pH\"].mean().sort_values(ascending = True).head(10).plot.bar()\n",
    "plt.ylabel(\"pH\")\n",
    "plt.title(\"States having acidic water according to mean pH for year 2019\")\n",
    "plt.show()"
   ]
  },
  {
   "cell_type": "code",
   "execution_count": 55,
   "metadata": {},
   "outputs": [
    {
     "data": {
      "image/png": "[encoded data removed]",
      "text/plain": [
       "<Figure size 864x576 with 1 Axes>"
      ]
     },
     "metadata": {
      "needs_background": "light"
     },
     "output_type": "display_data"
    }
   ],
   "source": [
    "#States having Nitrate level>20\n",
    "plt.figure(figsize = (12,8))\n",
    "gw.groupby(\"State\")[\"Nitrate\"].mean().sort_values(ascending = False).head(10).plot.bar()\n",
    "plt.ylabel(\"Nitrate\")\n",
    "plt.title(\"States having Nitrate level > 20 for year 2019\")\n",
    "plt.show()"
   ]
  },
  {
   "cell_type": "code",
   "execution_count": 56,
   "metadata": {},
   "outputs": [
    {
     "data": {
      "image/png": "[encoded data removed]",
      "text/plain": [
       "<Figure size 864x576 with 1 Axes>"
      ]
     },
     "metadata": {
      "needs_background": "light"
     },
     "output_type": "display_data"
    }
   ],
   "source": [
    "#States having Nitrate level<20 \n",
    "plt.figure(figsize = (12,8))\n",
    "gw.groupby(\"State\")[\"Nitrate\"].mean().sort_values(ascending = True).head(10).plot.bar()\n",
    "plt.ylabel(\"Nitrate\")\n",
    "plt.title(\"States having Nitrate level < 20 for year 2019\")\n",
    "plt.show()"
   ]
  },
  {
   "cell_type": "code",
   "execution_count": 57,
   "metadata": {},
   "outputs": [
    {
     "data": {
      "image/png": "[encoded data removed]",
      "text/plain": [
       "<Figure size 864x576 with 1 Axes>"
      ]
     },
     "metadata": {
      "needs_background": "light"
     },
     "output_type": "display_data"
    }
   ],
   "source": [
    "#States having Detectable Coliform level\n",
    "plt.figure(figsize = (12,8))\n",
    "gw.groupby(\"State\")[\"TotalColiform\"].mean().sort_values(ascending = False).head(10).plot.bar()\n",
    "plt.ylabel(\"TotalColiform\")\n",
    "plt.title(\"Detectable Total Coliform level of each State\")\n",
    "plt.show()"
   ]
  },
  {
   "cell_type": "code",
   "execution_count": 58,
   "metadata": {},
   "outputs": [
    {
     "data": {
      "image/png": "[encoded data removed]",
      "text/plain": [
       "<Figure size 864x576 with 1 Axes>"
      ]
     },
     "metadata": {
      "needs_background": "light"
     },
     "output_type": "display_data"
    }
   ],
   "source": [
    "#States having Non Detectable Coliform level\n",
    "plt.figure(figsize = (12,8))\n",
    "gw.groupby(\"State\")[\"TotalColiform\"].mean().sort_values(ascending = True).head(10).plot.bar()\n",
    "plt.ylabel(\"TotalColiform\")\n",
    "plt.title(\"Non Detectable Total Coliform level of each State\")\n",
    "plt.show()"
   ]
  },
  {
   "cell_type": "markdown",
   "metadata": {},
   "source": [
    "# FEATURE SELECTION"
   ]
  },
  {
   "cell_type": "code",
   "execution_count": 59,
   "metadata": {},
   "outputs": [],
   "source": [
    "gw.drop(\"Station Code\",axis=1, inplace=True)"
   ]
  },
  {
   "cell_type": "code",
   "execution_count": 60,
   "metadata": {},
   "outputs": [],
   "source": [
    "# CORRELATION PLOT\n",
    "import seaborn as sns"
   ]
  },
  {
   "cell_type": "code",
   "execution_count": 61,
   "metadata": {},
   "outputs": [
    {
     "data": {
      "image/png": "[encoded data removed]",
      "text/plain": [
       "<Figure size 1080x576 with 2 Axes>"
      ]
     },
     "metadata": {},
     "output_type": "display_data"
    }
   ],
   "source": [
    "corrMatrix = gw.corr()\n",
    "sns.set(rc = {'figure.figsize':(15,8)})\n",
    "sns.heatmap(corrMatrix,annot=True)\n",
    "plt.show()"
   ]
  },
  {
   "cell_type": "code",
   "execution_count": 62,
   "metadata": {},
   "outputs": [],
   "source": [
    "#calulation of Ph\n",
    "gw['npH']=gw.pH.apply(lambda x: (100 if (8.5>=x>=7)  \n",
    "                                 else(80 if  (8.6>=x>=8.5) or (6.9>=x>=6.8) \n",
    "                                      else(60 if (8.8>=x>=8.6) or (6.8>=x>=6.7) \n",
    "                                          else(40 if (9>=x>=8.8) or (6.7>=x>=6.5)\n",
    "                                              else 0)))))"
   ]
  },
  {
   "cell_type": "code",
   "execution_count": 63,
   "metadata": {},
   "outputs": [],
   "source": [
    "#Calulation of nitrate\n",
    "gw['nna']=gw.Nitrate.apply(lambda x:(100 if (20>=x>=0)  \n",
    "                                 else(80 if  (50>=x>=20) \n",
    "                                      else(60 if (100>=x>=50)\n",
    "                                          else(40 if (200>=x>=100) \n",
    "                                              else 0)))))"
   ]
  },
  {
   "cell_type": "code",
   "execution_count": 64,
   "metadata": {},
   "outputs": [],
   "source": [
    "#calculation of total coliform\n",
    "gw['nco']=gw.TotalColiform.apply(lambda x:(100 if (5>=x>=0)  \n",
    "                                 else(80 if  (50>=x>=5) \n",
    "                                      else(60 if (500>=x>=50)\n",
    "                                          else(40 if (10000>=x>=500) \n",
    "                                              else 0)))))"
   ]
  },
  {
   "cell_type": "code",
   "execution_count": 65,
   "metadata": {},
   "outputs": [
    {
     "data": {
      "text/plain": [
       "Station Name       object\n",
       "State              object\n",
       "Temperature       float64\n",
       "DO                float64\n",
       "pH                float64\n",
       "Conductivity      float64\n",
       "BOD               float64\n",
       "Nitrate           float64\n",
       "TotalColiform     float64\n",
       "FaecalColiform    float64\n",
       "npH                 int64\n",
       "nna                 int64\n",
       "nco                 int64\n",
       "dtype: object"
      ]
     },
     "execution_count": 65,
     "metadata": {},
     "output_type": "execute_result"
    }
   ],
   "source": [
    "gw.dtypes"
   ]
  },
  {
   "cell_type": "code",
   "execution_count": 66,
   "metadata": {},
   "outputs": [],
   "source": [
    "gw['npH'] = gw['npH'].apply(str)"
   ]
  },
  {
   "cell_type": "code",
   "execution_count": 67,
   "metadata": {},
   "outputs": [],
   "source": [
    "gw['nna'] = gw['nna'].apply(str)"
   ]
  },
  {
   "cell_type": "code",
   "execution_count": 68,
   "metadata": {},
   "outputs": [],
   "source": [
    "gw['nco'] = gw['nco'].apply(str)"
   ]
  },
  {
   "cell_type": "markdown",
   "metadata": {},
   "source": [
    "# MODEL CREATION"
   ]
  },
  {
   "cell_type": "markdown",
   "metadata": {},
   "source": [
    "# 1. FOR DETERMINATION OF pH VALUE."
   ]
  },
  {
   "cell_type": "code",
   "execution_count": 69,
   "metadata": {},
   "outputs": [],
   "source": [
    "target='pH'\n",
    "y=gw[target]\n",
    "x=gw[[\"npH\",\"nna\",\"nco\"]]"
   ]
  },
  {
   "cell_type": "code",
   "execution_count": 70,
   "metadata": {},
   "outputs": [],
   "source": [
    "from sklearn.model_selection import train_test_split"
   ]
  },
  {
   "cell_type": "code",
   "execution_count": 71,
   "metadata": {},
   "outputs": [],
   "source": [
    "x_train,x_val,y_train,y_val=train_test_split(x,y,test_size=0.2,random_state=4)"
   ]
  },
  {
   "cell_type": "code",
   "execution_count": 72,
   "metadata": {},
   "outputs": [
    {
     "name": "stdout",
     "output_type": "stream",
     "text": [
      "(816, 3)\n"
     ]
    }
   ],
   "source": [
    "print(x_train.shape)"
   ]
  },
  {
   "cell_type": "code",
   "execution_count": 73,
   "metadata": {},
   "outputs": [
    {
     "name": "stdout",
     "output_type": "stream",
     "text": [
      "(204, 3)\n"
     ]
    }
   ],
   "source": [
    "print(x_val.shape)"
   ]
  },
  {
   "cell_type": "code",
   "execution_count": 74,
   "metadata": {},
   "outputs": [
    {
     "name": "stdout",
     "output_type": "stream",
     "text": [
      "(816,)\n"
     ]
    }
   ],
   "source": [
    "print(y_train.shape)"
   ]
  },
  {
   "cell_type": "code",
   "execution_count": 75,
   "metadata": {},
   "outputs": [
    {
     "name": "stdout",
     "output_type": "stream",
     "text": [
      "(204,)\n"
     ]
    }
   ],
   "source": [
    "print(y_val.shape)"
   ]
  },
  {
   "cell_type": "code",
   "execution_count": 76,
   "metadata": {},
   "outputs": [],
   "source": [
    "from sklearn.metrics import mean_absolute_error\n",
    "from sklearn.metrics import mean_squared_error\n",
    "y_pred=[(y_train.mean())] * len(y_train)"
   ]
  },
  {
   "cell_type": "code",
   "execution_count": 77,
   "metadata": {},
   "outputs": [
    {
     "data": {
      "text/plain": [
       "Pipeline(steps=[('standardscaler', StandardScaler()),\n",
       "                ('linearregression', LinearRegression())])"
      ]
     },
     "execution_count": 77,
     "metadata": {},
     "output_type": "execute_result"
    }
   ],
   "source": [
    "# LINEAR REGRESSION MODEL\n",
    "\n",
    "from sklearn.linear_model import LinearRegression\n",
    "from sklearn.pipeline import make_pipeline\n",
    "from sklearn.preprocessing import StandardScaler\n",
    "lm= make_pipeline(StandardScaler(),LinearRegression())\n",
    "lm.fit(x_train,y_train)"
   ]
  },
  {
   "cell_type": "code",
   "execution_count": 78,
   "metadata": {},
   "outputs": [
    {
     "name": "stderr",
     "output_type": "stream",
     "text": [
      "C:\\Users\\HP\\anaconda3\\lib\\site-packages\\sklearn\\feature_selection\\_univariate_selection.py:116: RuntimeWarning: divide by zero encountered in true_divide\n",
      "  f = msb / msw\n"
     ]
    },
    {
     "data": {
      "text/plain": [
       "Pipeline(steps=[('selectkbest', SelectKBest(k='all')),\n",
       "                ('standardscaler', StandardScaler()),\n",
       "                ('randomforestregressor',\n",
       "                 RandomForestRegressor(max_depth=50, n_jobs=-1,\n",
       "                                       random_state=77))])"
      ]
     },
     "execution_count": 78,
     "metadata": {},
     "output_type": "execute_result"
    }
   ],
   "source": [
    "# RANDOM FOREST MODEL\n",
    "\n",
    "from sklearn.feature_selection import SelectKBest\n",
    "from sklearn.ensemble import RandomForestRegressor\n",
    "forestModel=make_pipeline(SelectKBest(k=\"all\"),StandardScaler(),RandomForestRegressor(n_estimators=100,max_depth=50,random_state=77,n_jobs=-1))\n",
    "forestModel.fit(x_train,y_train)"
   ]
  },
  {
   "cell_type": "markdown",
   "metadata": {},
   "source": [
    "# DETERMINING PERFORMANCE EVALAUTION METRICS"
   ]
  },
  {
   "cell_type": "code",
   "execution_count": 79,
   "metadata": {},
   "outputs": [
    {
     "name": "stdout",
     "output_type": "stream",
     "text": [
      "Linear Regression Training MAE: 0.47976\n",
      "Linear Regression Test MAE: 2.2522\n"
     ]
    }
   ],
   "source": [
    "# FOR LINEAR REGRESSION MODEL\n",
    "print('Linear Regression Training MAE:', round(mean_absolute_error(y_train, lm.predict(x_train)),5))\n",
    "print('Linear Regression Test MAE:', round(mean_absolute_error(y_val, lm.predict(x_val)),5))"
   ]
  },
  {
   "cell_type": "code",
   "execution_count": 80,
   "metadata": {},
   "outputs": [
    {
     "name": "stdout",
     "output_type": "stream",
     "text": [
      "Linear Regression Training MSE: 0.87698\n",
      "Linear Regression Test MSE: 601.40711\n"
     ]
    }
   ],
   "source": [
    "print('Linear Regression Training MSE:', round(mean_squared_error(y_train, lm.predict(x_train)),5))\n",
    "print('Linear Regression Test MSE:', round(mean_squared_error(y_val, lm.predict(x_val)),5))"
   ]
  },
  {
   "cell_type": "code",
   "execution_count": 81,
   "metadata": {},
   "outputs": [
    {
     "name": "stdout",
     "output_type": "stream",
     "text": [
      "Random Forest Regressor Model Training MAE: 0.45746\n",
      "Random Forest Regressor Model Test MAE: 2.22781\n"
     ]
    }
   ],
   "source": [
    "# FOR RANDOM FOREST REGRESSOR MODEL\n",
    "print('Random Forest Regressor Model Training MAE:', round(mean_absolute_error(y_train, forestModel.predict(x_train)),5))\n",
    "print('Random Forest Regressor Model Test MAE:', round(mean_absolute_error(y_val, forestModel.predict(x_val)),5))"
   ]
  },
  {
   "cell_type": "code",
   "execution_count": 82,
   "metadata": {},
   "outputs": [
    {
     "name": "stdout",
     "output_type": "stream",
     "text": [
      "Random Forest Regressor Model Training MSE: 0.8328\n",
      "Random Forest Regressor Model Test MSE: 602.09454\n"
     ]
    }
   ],
   "source": [
    "# FOR RANDOM FOREST REGRESSOR MODEL\n",
    "print('Random Forest Regressor Model Training MSE:', round(mean_squared_error(y_train, forestModel.predict(x_train)),5))\n",
    "print('Random Forest Regressor Model Test MSE:', round(mean_squared_error(y_val, forestModel.predict(x_val)),5))"
   ]
  },
  {
   "cell_type": "markdown",
   "metadata": {},
   "source": [
    "# 2. FOR DETERMINATION OF TOTAL COLIFORM VALUE."
   ]
  },
  {
   "cell_type": "code",
   "execution_count": 83,
   "metadata": {},
   "outputs": [],
   "source": [
    "target1='TotalColiform'\n",
    "y1=gw[target1]\n",
    "x1=gw[[\"npH\",\"nna\",\"nco\"]]"
   ]
  },
  {
   "cell_type": "code",
   "execution_count": 84,
   "metadata": {},
   "outputs": [],
   "source": [
    "from sklearn.model_selection import train_test_split\n",
    "x1_train,x1_val,y1_train,y1_val=train_test_split(x1,y1,test_size=0.2,random_state=4)"
   ]
  },
  {
   "cell_type": "code",
   "execution_count": 85,
   "metadata": {},
   "outputs": [
    {
     "name": "stdout",
     "output_type": "stream",
     "text": [
      "(816, 3)\n",
      "(204, 3)\n",
      "(816,)\n",
      "(204,)\n"
     ]
    }
   ],
   "source": [
    "print(x1_train.shape)\n",
    "print(x1_val.shape)\n",
    "print(y1_train.shape)\n",
    "print(y1_val.shape)"
   ]
  },
  {
   "cell_type": "code",
   "execution_count": 86,
   "metadata": {},
   "outputs": [],
   "source": [
    "from sklearn.metrics import mean_absolute_error\n",
    "from sklearn.metrics import mean_squared_error\n",
    "y1_pred=[(y1_train.mean())] * len(y1_train)"
   ]
  },
  {
   "cell_type": "code",
   "execution_count": 87,
   "metadata": {},
   "outputs": [
    {
     "data": {
      "text/plain": [
       "Pipeline(steps=[('standardscaler', StandardScaler()),\n",
       "                ('linearregression', LinearRegression())])"
      ]
     },
     "execution_count": 87,
     "metadata": {},
     "output_type": "execute_result"
    }
   ],
   "source": [
    "# LINEAR REGRESSION MODEL\n",
    "\n",
    "from sklearn.linear_model import LinearRegression\n",
    "from sklearn.pipeline import make_pipeline\n",
    "from sklearn.preprocessing import StandardScaler\n",
    "lm= make_pipeline(StandardScaler(),LinearRegression())\n",
    "lm.fit(x1_train,y1_train)"
   ]
  },
  {
   "cell_type": "code",
   "execution_count": 88,
   "metadata": {},
   "outputs": [
    {
     "name": "stderr",
     "output_type": "stream",
     "text": [
      "C:\\Users\\HP\\anaconda3\\lib\\site-packages\\sklearn\\feature_selection\\_univariate_selection.py:116: RuntimeWarning: divide by zero encountered in true_divide\n",
      "  f = msb / msw\n"
     ]
    },
    {
     "data": {
      "text/plain": [
       "Pipeline(steps=[('selectkbest', SelectKBest(k='all')),\n",
       "                ('standardscaler', StandardScaler()),\n",
       "                ('randomforestregressor',\n",
       "                 RandomForestRegressor(max_depth=50, n_jobs=-1,\n",
       "                                       random_state=77))])"
      ]
     },
     "execution_count": 88,
     "metadata": {},
     "output_type": "execute_result"
    }
   ],
   "source": [
    "# RANDOM FOREST MODEL\n",
    "\n",
    "from sklearn.feature_selection import SelectKBest\n",
    "from sklearn.ensemble import RandomForestRegressor\n",
    "forestModel=make_pipeline(SelectKBest(k=\"all\"),StandardScaler(),RandomForestRegressor(n_estimators=100,max_depth=50,random_state=77,n_jobs=-1))\n",
    "forestModel.fit(x1_train,y1_train)"
   ]
  },
  {
   "cell_type": "markdown",
   "metadata": {},
   "source": [
    "# DETERMINING PERFORMANCE EVALAUTION METRICS"
   ]
  },
  {
   "cell_type": "code",
   "execution_count": 89,
   "metadata": {},
   "outputs": [
    {
     "name": "stdout",
     "output_type": "stream",
     "text": [
      "Linear Regression Training MAE: 93.43236\n",
      "Linear Regression Test MAE: 135.20004\n"
     ]
    }
   ],
   "source": [
    "# FOR LINEAR REGRESSION MODEL\n",
    "print('Linear Regression Training MAE:', round(mean_absolute_error(y1_train, lm.predict(x1_train)),5))\n",
    "print('Linear Regression Test MAE:', round(mean_absolute_error(y1_val, lm.predict(x1_val)),5))"
   ]
  },
  {
   "cell_type": "code",
   "execution_count": 90,
   "metadata": {},
   "outputs": [
    {
     "name": "stdout",
     "output_type": "stream",
     "text": [
      "Linear Regression Training MSE: 62558.18891\n",
      "Linear Regression Test MSE: 651311.57628\n"
     ]
    }
   ],
   "source": [
    "print('Linear Regression Training MSE:', round(mean_squared_error(y1_train, lm.predict(x1_train)),5))\n",
    "print('Linear Regression Test MSE:', round(mean_squared_error(y1_val, lm.predict(x1_val)),5))"
   ]
  },
  {
   "cell_type": "code",
   "execution_count": 91,
   "metadata": {},
   "outputs": [
    {
     "name": "stdout",
     "output_type": "stream",
     "text": [
      "Random Forest Regressor Model Training MAE: 17.95749\n",
      "Random Forest Regressor Model Test MAE: 50.82443\n"
     ]
    }
   ],
   "source": [
    "# FOR RANDOM FOREST REGRESSOR MODEL\n",
    "print('Random Forest Regressor Model Training MAE:', round(mean_absolute_error(y1_train, forestModel.predict(x1_train)),5))\n",
    "print('Random Forest Regressor Model Test MAE:', round(mean_absolute_error(y1_val, forestModel.predict(x1_val)),5))"
   ]
  },
  {
   "cell_type": "code",
   "execution_count": 92,
   "metadata": {},
   "outputs": [
    {
     "name": "stdout",
     "output_type": "stream",
     "text": [
      "Random Forest Regressor Model Training MSE: 13136.50488\n",
      "Random Forest Regressor Model Test MSE: 337952.1984\n"
     ]
    }
   ],
   "source": [
    "# FOR RANDOM FOREST REGRESSOR MODEL\n",
    "print('Random Forest Regressor Model Training MSE:', round(mean_squared_error(y1_train, forestModel.predict(x1_train)),5))\n",
    "print('Random Forest Regressor Model Test MSE:', round(mean_squared_error(y1_val, forestModel.predict(x1_val)),5))"
   ]
  },
  {
   "cell_type": "markdown",
   "metadata": {},
   "source": [
    "# FOR DETERMINATION OF NITRATE VALUE"
   ]
  },
  {
   "cell_type": "code",
   "execution_count": 93,
   "metadata": {},
   "outputs": [],
   "source": [
    "target2='Nitrate'\n",
    "y2=gw[target1]\n",
    "x2=gw[[\"npH\",\"nna\",\"nco\"]]"
   ]
  },
  {
   "cell_type": "code",
   "execution_count": 94,
   "metadata": {},
   "outputs": [],
   "source": [
    "from sklearn.model_selection import train_test_split\n",
    "x2_train,x2_val,y2_train,y2_val=train_test_split(x2,y2,test_size=0.3,random_state=4)"
   ]
  },
  {
   "cell_type": "code",
   "execution_count": 95,
   "metadata": {},
   "outputs": [
    {
     "name": "stdout",
     "output_type": "stream",
     "text": [
      "(714, 3)\n",
      "(306, 3)\n",
      "(714,)\n",
      "(306,)\n"
     ]
    }
   ],
   "source": [
    "print(x2_train.shape)\n",
    "print(x2_val.shape)\n",
    "print(y2_train.shape)\n",
    "print(y2_val.shape)"
   ]
  },
  {
   "cell_type": "code",
   "execution_count": 96,
   "metadata": {},
   "outputs": [],
   "source": [
    "from sklearn.metrics import mean_absolute_error\n",
    "from sklearn.metrics import mean_squared_error\n",
    "y2_pred=[(y2_train.mean())] * len(y2_train)"
   ]
  },
  {
   "cell_type": "code",
   "execution_count": 97,
   "metadata": {},
   "outputs": [
    {
     "data": {
      "text/plain": [
       "Pipeline(steps=[('standardscaler', StandardScaler()),\n",
       "                ('linearregression', LinearRegression())])"
      ]
     },
     "execution_count": 97,
     "metadata": {},
     "output_type": "execute_result"
    }
   ],
   "source": [
    "# LINEAR REGRESSION MODEL\n",
    "\n",
    "from sklearn.linear_model import LinearRegression\n",
    "from sklearn.pipeline import make_pipeline\n",
    "from sklearn.preprocessing import StandardScaler\n",
    "lm= make_pipeline(StandardScaler(),LinearRegression())\n",
    "lm.fit(x2_train,y2_train)"
   ]
  },
  {
   "cell_type": "code",
   "execution_count": 98,
   "metadata": {},
   "outputs": [
    {
     "name": "stderr",
     "output_type": "stream",
     "text": [
      "C:\\Users\\HP\\anaconda3\\lib\\site-packages\\sklearn\\feature_selection\\_univariate_selection.py:116: RuntimeWarning: divide by zero encountered in true_divide\n",
      "  f = msb / msw\n"
     ]
    },
    {
     "data": {
      "text/plain": [
       "Pipeline(steps=[('selectkbest', SelectKBest(k='all')),\n",
       "                ('standardscaler', StandardScaler()),\n",
       "                ('randomforestregressor',\n",
       "                 RandomForestRegressor(max_depth=50, n_jobs=-1,\n",
       "                                       random_state=77))])"
      ]
     },
     "execution_count": 98,
     "metadata": {},
     "output_type": "execute_result"
    }
   ],
   "source": [
    "# RANDOM FOREST MODEL\n",
    "\n",
    "from sklearn.feature_selection import SelectKBest\n",
    "from sklearn.ensemble import RandomForestRegressor\n",
    "forestModel=make_pipeline(SelectKBest(k=\"all\"),StandardScaler(),RandomForestRegressor(n_estimators=100,max_depth=50,random_state=77,n_jobs=-1))\n",
    "forestModel.fit(x2_train,y2_train)"
   ]
  },
  {
   "cell_type": "markdown",
   "metadata": {},
   "source": [
    "# DETERMINING PERFORMANCE EVALAUTION METRICS"
   ]
  },
  {
   "cell_type": "code",
   "execution_count": 99,
   "metadata": {},
   "outputs": [
    {
     "name": "stdout",
     "output_type": "stream",
     "text": [
      "Linear Regression Training MAE: 64.04368\n",
      "Linear Regression Test MAE: 120.98754\n"
     ]
    }
   ],
   "source": [
    "# FOR LINEAR REGRESSION MODEL\n",
    "print('Linear Regression Training MAE:', round(mean_absolute_error(y2_train, lm.predict(x2_train)),5))\n",
    "print('Linear Regression Test MAE:', round(mean_absolute_error(y2_val, lm.predict(x2_val)),5))"
   ]
  },
  {
   "cell_type": "code",
   "execution_count": 100,
   "metadata": {},
   "outputs": [
    {
     "name": "stdout",
     "output_type": "stream",
     "text": [
      "Linear Regression Training MSE: 25973.8218\n",
      "Linear Regression Test MSE: 586666.89689\n"
     ]
    }
   ],
   "source": [
    "print('Linear Regression Training MSE:', round(mean_squared_error(y2_train, lm.predict(x2_train)),5))\n",
    "print('Linear Regression Test MSE:', round(mean_squared_error(y2_val, lm.predict(x2_val)),5))"
   ]
  },
  {
   "cell_type": "code",
   "execution_count": 101,
   "metadata": {},
   "outputs": [
    {
     "name": "stdout",
     "output_type": "stream",
     "text": [
      "Random Forest Regressor Model Training MAE: 14.81488\n",
      "Random Forest Regressor Model Test MAE: 67.31188\n"
     ]
    }
   ],
   "source": [
    "# FOR RANDOM FOREST REGRESSOR MODEL\n",
    "print('Random Forest Regressor Model Training MAE:', round(mean_absolute_error(y2_train, forestModel.predict(x2_train)),5))\n",
    "print('Random Forest Regressor Model Test MAE:', round(mean_absolute_error(y2_val, forestModel.predict(x2_val)),5))"
   ]
  },
  {
   "cell_type": "code",
   "execution_count": 102,
   "metadata": {},
   "outputs": [
    {
     "name": "stdout",
     "output_type": "stream",
     "text": [
      "Random Forest Regressor Model Training MSE: 8004.72612\n",
      "Random Forest Regressor Model Test MSE: 489064.90087\n"
     ]
    }
   ],
   "source": [
    "# FOR RANDOM FOREST REGRESSOR MODEL\n",
    "print('Random Forest Regressor Model Training MSE:', round(mean_squared_error(y2_train, forestModel.predict(x2_train)),5))\n",
    "print('Random Forest Regressor Model Test MSE:', round(mean_squared_error(y2_val, forestModel.predict(x2_val)),5))"
   ]
  },
  {
   "cell_type": "markdown",
   "metadata": {},
   "source": [
    "# Result shows that pH,Nitrate and Total Coliform can be predicted and secondly we can predict them on the basis of the Random Forest Model as it has minimum MAE and MSE out of the two models."
   ]
  },
  {
   "cell_type": "code",
   "execution_count": 103,
   "metadata": {},
   "outputs": [],
   "source": [
    "from sklearn.preprocessing import LabelEncoder#for train test splitting\n",
    "from sklearn.tree import DecisionTreeClassifier#for checking testing results\n",
    "from sklearn.metrics import classification_report, confusion_matrix#for visualizing tree \n",
    "from sklearn.tree import plot_tree"
   ]
  },
  {
   "cell_type": "code",
   "execution_count": 104,
   "metadata": {},
   "outputs": [],
   "source": [
    "target='pH'\n",
    "y3=gw[target]\n",
    "x3=gw[[\"npH\",\"nna\",\"nco\"]]"
   ]
  },
  {
   "cell_type": "code",
   "execution_count": 105,
   "metadata": {},
   "outputs": [],
   "source": [
    "from sklearn.model_selection import train_test_split\n",
    "x3_train,x3_val,y3_train,y3_val=train_test_split(x3,y3,test_size=0.3,random_state=4)"
   ]
  },
  {
   "cell_type": "code",
   "execution_count": 106,
   "metadata": {},
   "outputs": [
    {
     "name": "stdout",
     "output_type": "stream",
     "text": [
      "Training split input-  (714, 3)\n",
      "Testing split input-  (306, 3)\n"
     ]
    }
   ],
   "source": [
    "print(\"Training split input- \", x3_train.shape)\n",
    "print(\"Testing split input- \", x3_val.shape)"
   ]
  },
  {
   "cell_type": "code",
   "execution_count": 107,
   "metadata": {},
   "outputs": [
    {
     "name": "stdout",
     "output_type": "stream",
     "text": [
      "Training split input-  (714,)\n",
      "Testing split input-  (306,)\n"
     ]
    }
   ],
   "source": [
    "print(\"Training split input- \", y3_train.shape)\n",
    "print(\"Testing split input- \", y3_val.shape)"
   ]
  },
  {
   "cell_type": "code",
   "execution_count": 109,
   "metadata": {},
   "outputs": [],
   "source": [
    "from sklearn import preprocessing\n",
    "from sklearn import utils\n",
    "lab_enc = preprocessing.LabelEncoder()\n",
    "encoded = lab_enc.fit_transform(y3_train)"
   ]
  },
  {
   "cell_type": "code",
   "execution_count": 110,
   "metadata": {},
   "outputs": [
    {
     "name": "stdout",
     "output_type": "stream",
     "text": [
      "continuous\n"
     ]
    }
   ],
   "source": [
    "print(utils.multiclass.type_of_target(y3_train))"
   ]
  },
  {
   "cell_type": "code",
   "execution_count": 111,
   "metadata": {},
   "outputs": [
    {
     "name": "stdout",
     "output_type": "stream",
     "text": [
      "multiclass\n"
     ]
    }
   ],
   "source": [
    "print(utils.multiclass.type_of_target(y3_train.astype('int')))"
   ]
  },
  {
   "cell_type": "code",
   "execution_count": 112,
   "metadata": {},
   "outputs": [
    {
     "name": "stdout",
     "output_type": "stream",
     "text": [
      "multiclass\n"
     ]
    }
   ],
   "source": [
    "print(utils.multiclass.type_of_target(encoded))"
   ]
  },
  {
   "cell_type": "code",
   "execution_count": 113,
   "metadata": {},
   "outputs": [
    {
     "name": "stdout",
     "output_type": "stream",
     "text": [
      "multiclass-multioutput\n"
     ]
    }
   ],
   "source": [
    "print(utils.multiclass.type_of_target(x3_train))"
   ]
  },
  {
   "cell_type": "code",
   "execution_count": 114,
   "metadata": {},
   "outputs": [
    {
     "name": "stdout",
     "output_type": "stream",
     "text": [
      "multiclass-multioutput\n"
     ]
    }
   ],
   "source": [
    "print(utils.multiclass.type_of_target(x3_train.astype('int')))"
   ]
  },
  {
   "cell_type": "code",
   "execution_count": 115,
   "metadata": {},
   "outputs": [
    {
     "name": "stdout",
     "output_type": "stream",
     "text": [
      "multiclass\n"
     ]
    }
   ],
   "source": [
    "print(utils.multiclass.type_of_target(encoded))"
   ]
  },
  {
   "cell_type": "code",
   "execution_count": 119,
   "metadata": {},
   "outputs": [
    {
     "ename": "ValueError",
     "evalue": "Unknown label type: 'continuous'",
     "output_type": "error",
     "traceback": [
      "\u001b[1;31m---------------------------------------------------------------------------\u001b[0m",
      "\u001b[1;31mValueError\u001b[0m                                Traceback (most recent call last)",
      "\u001b[1;32m<ipython-input-119-f1baeec7a997>\u001b[0m in \u001b[0;36m<module>\u001b[1;34m\u001b[0m\n\u001b[0;32m      1\u001b[0m \u001b[0mclf\u001b[0m \u001b[1;33m=\u001b[0m \u001b[0mDecisionTreeClassifier\u001b[0m\u001b[1;33m(\u001b[0m\u001b[1;33m)\u001b[0m\u001b[1;33m\u001b[0m\u001b[1;33m\u001b[0m\u001b[0m\n\u001b[1;32m----> 2\u001b[1;33m \u001b[0mclf\u001b[0m\u001b[1;33m.\u001b[0m\u001b[0mfit\u001b[0m\u001b[1;33m(\u001b[0m\u001b[0mx3_val\u001b[0m\u001b[1;33m,\u001b[0m\u001b[0my3_train\u001b[0m\u001b[1;33m)\u001b[0m\u001b[1;33m\u001b[0m\u001b[1;33m\u001b[0m\u001b[0m\n\u001b[0m\u001b[0;32m      3\u001b[0m \u001b[0mprint\u001b[0m\u001b[1;33m(\u001b[0m\u001b[1;34m\"DecisionTreeClassifier\"\u001b[0m\u001b[1;33m)\u001b[0m\u001b[1;33m\u001b[0m\u001b[1;33m\u001b[0m\u001b[0m\n",
      "\u001b[1;32m~\\anaconda3\\lib\\site-packages\\sklearn\\tree\\_classes.py\u001b[0m in \u001b[0;36mfit\u001b[1;34m(self, X, y, sample_weight, check_input, X_idx_sorted)\u001b[0m\n\u001b[0;32m    896\u001b[0m         \"\"\"\n\u001b[0;32m    897\u001b[0m \u001b[1;33m\u001b[0m\u001b[0m\n\u001b[1;32m--> 898\u001b[1;33m         super().fit(\n\u001b[0m\u001b[0;32m    899\u001b[0m             \u001b[0mX\u001b[0m\u001b[1;33m,\u001b[0m \u001b[0my\u001b[0m\u001b[1;33m,\u001b[0m\u001b[1;33m\u001b[0m\u001b[1;33m\u001b[0m\u001b[0m\n\u001b[0;32m    900\u001b[0m             \u001b[0msample_weight\u001b[0m\u001b[1;33m=\u001b[0m\u001b[0msample_weight\u001b[0m\u001b[1;33m,\u001b[0m\u001b[1;33m\u001b[0m\u001b[1;33m\u001b[0m\u001b[0m\n",
      "\u001b[1;32m~\\anaconda3\\lib\\site-packages\\sklearn\\tree\\_classes.py\u001b[0m in \u001b[0;36mfit\u001b[1;34m(self, X, y, sample_weight, check_input, X_idx_sorted)\u001b[0m\n\u001b[0;32m    188\u001b[0m \u001b[1;33m\u001b[0m\u001b[0m\n\u001b[0;32m    189\u001b[0m         \u001b[1;32mif\u001b[0m \u001b[0mis_classification\u001b[0m\u001b[1;33m:\u001b[0m\u001b[1;33m\u001b[0m\u001b[1;33m\u001b[0m\u001b[0m\n\u001b[1;32m--> 190\u001b[1;33m             \u001b[0mcheck_classification_targets\u001b[0m\u001b[1;33m(\u001b[0m\u001b[0my\u001b[0m\u001b[1;33m)\u001b[0m\u001b[1;33m\u001b[0m\u001b[1;33m\u001b[0m\u001b[0m\n\u001b[0m\u001b[0;32m    191\u001b[0m             \u001b[0my\u001b[0m \u001b[1;33m=\u001b[0m \u001b[0mnp\u001b[0m\u001b[1;33m.\u001b[0m\u001b[0mcopy\u001b[0m\u001b[1;33m(\u001b[0m\u001b[0my\u001b[0m\u001b[1;33m)\u001b[0m\u001b[1;33m\u001b[0m\u001b[1;33m\u001b[0m\u001b[0m\n\u001b[0;32m    192\u001b[0m \u001b[1;33m\u001b[0m\u001b[0m\n",
      "\u001b[1;32m~\\anaconda3\\lib\\site-packages\\sklearn\\utils\\multiclass.py\u001b[0m in \u001b[0;36mcheck_classification_targets\u001b[1;34m(y)\u001b[0m\n\u001b[0;32m    181\u001b[0m     if y_type not in ['binary', 'multiclass', 'multiclass-multioutput',\n\u001b[0;32m    182\u001b[0m                       'multilabel-indicator', 'multilabel-sequences']:\n\u001b[1;32m--> 183\u001b[1;33m         \u001b[1;32mraise\u001b[0m \u001b[0mValueError\u001b[0m\u001b[1;33m(\u001b[0m\u001b[1;34m\"Unknown label type: %r\"\u001b[0m \u001b[1;33m%\u001b[0m \u001b[0my_type\u001b[0m\u001b[1;33m)\u001b[0m\u001b[1;33m\u001b[0m\u001b[1;33m\u001b[0m\u001b[0m\n\u001b[0m\u001b[0;32m    184\u001b[0m \u001b[1;33m\u001b[0m\u001b[0m\n\u001b[0;32m    185\u001b[0m \u001b[1;33m\u001b[0m\u001b[0m\n",
      "\u001b[1;31mValueError\u001b[0m: Unknown label type: 'continuous'"
     ]
    }
   ],
   "source": [
    "clf = DecisionTreeClassifier()\n",
    "clf.fit(x3_train,y3_train)\n",
    "print(\"DecisionTreeClassifier\")"
   ]
  },
  {
   "cell_type": "code",
   "execution_count": null,
   "metadata": {},
   "outputs": [],
   "source": [
    "print('Decision Tree Classifier Created')"
   ]
  },
  {
   "cell_type": "code",
   "execution_count": 103,
   "metadata": {},
   "outputs": [],
   "source": [
    "from sklearn import metrics, svm"
   ]
  },
  {
   "cell_type": "code",
   "execution_count": 105,
   "metadata": {},
   "outputs": [],
   "source": [
    "target='pH'\n",
    "y3=gw[target]\n",
    "x3=gw[[\"npH\",\"nna\",\"nco\"]]"
   ]
  },
  {
   "cell_type": "code",
   "execution_count": 106,
   "metadata": {},
   "outputs": [],
   "source": [
    "from sklearn.model_selection import train_test_split\n",
    "x3_train,x3_val,y3_train,y3_val=train_test_split(x3,y3,test_size=0.3,random_state=4)"
   ]
  },
  {
   "cell_type": "code",
   "execution_count": 107,
   "metadata": {},
   "outputs": [
    {
     "name": "stdout",
     "output_type": "stream",
     "text": [
      "SVR\n"
     ]
    }
   ],
   "source": [
    "clf = svm.SVR()\n",
    "clf.fit(x3_train,y3_train)\n",
    "print(\"SVR\")"
   ]
  },
  {
   "cell_type": "code",
   "execution_count": 108,
   "metadata": {},
   "outputs": [],
   "source": [
    "from sklearn.metrics import mean_absolute_error\n",
    "from sklearn.metrics import mean_squared_error\n",
    "y3_pred=[(y3_train.mean())] * len(y3_train)"
   ]
  },
  {
   "cell_type": "code",
   "execution_count": 109,
   "metadata": {},
   "outputs": [
    {
     "ename": "TypeError",
     "evalue": "fit() missing 1 required positional argument: 'y'",
     "output_type": "error",
     "traceback": [
      "\u001b[1;31m---------------------------------------------------------------------------\u001b[0m",
      "\u001b[1;31mTypeError\u001b[0m                                 Traceback (most recent call last)",
      "\u001b[1;32m<ipython-input-109-68cf040400e8>\u001b[0m in \u001b[0;36m<module>\u001b[1;34m\u001b[0m\n\u001b[1;32m----> 1\u001b[1;33m \u001b[0mprint\u001b[0m\u001b[1;33m(\u001b[0m\u001b[1;34m'Support vector Training MAE:'\u001b[0m\u001b[1;33m,\u001b[0m \u001b[0mround\u001b[0m\u001b[1;33m(\u001b[0m\u001b[0mmean_absolute_error\u001b[0m\u001b[1;33m(\u001b[0m\u001b[0my3_train\u001b[0m\u001b[1;33m,\u001b[0m \u001b[0mclf\u001b[0m\u001b[1;33m.\u001b[0m\u001b[0mfit\u001b[0m\u001b[1;33m(\u001b[0m\u001b[0mx3_train\u001b[0m\u001b[1;33m)\u001b[0m\u001b[1;33m)\u001b[0m\u001b[1;33m,\u001b[0m\u001b[1;36m5\u001b[0m\u001b[1;33m)\u001b[0m\u001b[1;33m)\u001b[0m\u001b[1;33m\u001b[0m\u001b[1;33m\u001b[0m\u001b[0m\n\u001b[0m\u001b[0;32m      2\u001b[0m \u001b[0mprint\u001b[0m\u001b[1;33m(\u001b[0m\u001b[1;34m'Support vector Test MAE:'\u001b[0m\u001b[1;33m,\u001b[0m \u001b[0mround\u001b[0m\u001b[1;33m(\u001b[0m\u001b[0mmean_absolute_error\u001b[0m\u001b[1;33m(\u001b[0m\u001b[0my3_val\u001b[0m\u001b[1;33m,\u001b[0m \u001b[0mclf\u001b[0m\u001b[1;33m.\u001b[0m\u001b[0mfit\u001b[0m\u001b[1;33m(\u001b[0m\u001b[0mx3_val\u001b[0m\u001b[1;33m)\u001b[0m\u001b[1;33m)\u001b[0m\u001b[1;33m,\u001b[0m\u001b[1;36m5\u001b[0m\u001b[1;33m)\u001b[0m\u001b[1;33m)\u001b[0m\u001b[1;33m\u001b[0m\u001b[1;33m\u001b[0m\u001b[0m\n",
      "\u001b[1;31mTypeError\u001b[0m: fit() missing 1 required positional argument: 'y'"
     ]
    }
   ],
   "source": [
    "print('Support vector Training MAE:', round(mean_absolute_error(y3_train, clf.fit(x3_train)),5))\n",
    "print('Support vector Test MAE:', round(mean_absolute_error(y3_val, clf.fit(x3_val)),5))"
   ]
  },
  {
   "cell_type": "code",
   "execution_count": null,
   "metadata": {},
   "outputs": [],
   "source": []
  }
 ],
 "metadata": {
  "kernelspec": {
   "display_name": "Python 3",
   "language": "python",
   "name": "python3"
  },
  "language_info": {
   "codemirror_mode": {
    "name": "ipython",
    "version": 3
   },
   "file_extension": ".py",
   "mimetype": "text/x-python",
   "name": "python",
   "nbconvert_exporter": "python",
   "pygments_lexer": "ipython3",
   "version": "3.8.5"
  }
 },
 "nbformat": 4,
 "nbformat_minor": 4
}
